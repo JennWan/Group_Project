{
 "cells": [
  {
   "cell_type": "markdown",
   "id": "8060de94-e00a-4029-8e7e-6287cf52d50d",
   "metadata": {},
   "source": [
    "# Group Project Proposal\n",
    "## Classification of The Presence of Heart Disease\n",
    "* Jennifer Wang\n",
    "* Hagan Cheung\n",
    "* Justine Song\r\n"
   ]
  },
  {
   "cell_type": "markdown",
   "id": "d1d8da8a-287a-4f6f-8c56-cd50a6c90e58",
   "metadata": {},
   "source": [
    "### EXPLORING A DATASET\n",
    "Before we can conduct data analysis, we must outline our goals and understand the information available through 3 different steps.\n",
    "* Describing the variables in the heart disease data set.\n",
    "* Loading the heart disease data.\n",
    "* Preprocessing the heart disease data for comparison."
   ]
  },
  {
   "cell_type": "markdown",
   "id": "f3fc23b1-62a1-4cda-980a-212afd46ef4d",
   "metadata": {},
   "source": [
    "### Introduction\n",
    "Coronary heart disease (or coronary artery disease, CAD) is a chronic heart condition characterized by obstruction of blood flow to the heart due to cholesterol and degenerative tissue plaque buildup (arteriosclerosis) in the coronary arteries. This disease causes oxygen and nutrient deficiency in the heart, leading to chest pain (angina pectoris) and heart attacks. \n",
    "\n",
    "As this is an irreversible and incurable condition, it is important to diagnose the disease as quickly as possible to slow the progression of the disease, proloning the patient’s life expectancy. Our chosen dataset observes the outputs of many variables, which may play a role in diagnosing the disease and its progression in a number of patients (such as age and serum cholesterol content) according to our hypothesis. \n",
    "\n",
    "We are curious to see the ways in which the variable helps us accurately diagnosing CAD, and to create a model that predicts CAD presence/progression in patients with high accuracy based on trends observed in the dataset. Additionally, we hope to identify a threshold or litmus in the variables to help in quantifying the likelihood of CAD presence/progression. We hypothesize that there is a positive relationship between age and the other variables in the dataset, and that this relationship contributes to a higher likelihood of CAD presence. "
   ]
  },
  {
   "cell_type": "markdown",
   "id": "fe4d5341-e252-4e9b-b196-53557d45ab7f",
   "metadata": {},
   "source": [
    "### Method\n",
    "Our objective is to conduct a multiclass classification with more than two categories to answer a predictive question: can we use the attributes of the patient available to us to predict and distinguish the presence of heart disease in the patient? Our Class will be num, the diagnosis of heart disease (angiographic disease status) ranging from 0 to 4:\n",
    "* presence in severity (values 1,2,3,4) and,\n",
    "* absence (value 0).  \n",
    "\n",
    "Given the following attributes and its description:\n",
    "1. age: age in years\n",
    "2. sex: sex (1 = male; 0 = female)\n",
    "3. cp: chest pain type\n",
    "   * Value 1: typical angina\n",
    "   * Value 2: atypical angina\n",
    "   * Value 3: non-anginal pain\n",
    "   * Value 4: asymptomatic\n",
    "4. trestbps: resting blood pressure (in mm Hg on admission to the hospital)\n",
    "5. chol: serum cholestoral in mg/dl\n",
    "6. fbs: (fasting blood sugar > 120 mg/dl)  (1 = true; 0 = false)\n",
    "7. restecg: resting electrocardiographic results\n",
    "    * Value 0: normal\n",
    "    * Value 1: having ST-T wave abnormality (T wave inversions and/or ST elevation or depression of > 0.05 mV)\n",
    "    * Value 2: showing probable or definite left ventricular hypertrophy by Estes' criteria\n",
    "8. thalach: maximum heart rate achieved\n",
    "9. exang: exercise induced angina (1 = yes; 0 = no)\n",
    "10. oldpeak: ST depression induced by exercise relative to rest\n",
    "11. slope: the slope of the peak exercise ST segment\n",
    "    * Value 1: upsloping\n",
    "    * Value 2: flat\n",
    "    * Value 3: downsloping\n",
    "13. ca: number of major vessels (0-3) colored by flourosopy\n",
    "14. thal: 3 = normal; 6 = fixed defect; 7 = reversable defect\n",
    "15. num: diagnosis of heart disease (angiographic disease status)\n",
    "    * Value 0: < 50% diameter narrowing\n",
    "    * Value 1: > 50% diameter narrowing\n",
    "\n",
    "We plan to conduct data analysis to build a classifier using three different predictors (variables/columns):\n",
    "* age: age in years.\r",
    "* chol: serum cholestoral in mg/d.\n",
    "* thalach: maximum heart rate achieved.\n",
    "\n",
    "To Summarize:\n",
    "Our data analysis will be conducted using a classification model, and visualized with scatter plots. Our classifier will be the “num” column, which classifies the diagnosis of heart disease progression from 0 to 4 (0 being no presence, 4 being highly progressed). The predictors for the dataset that we will use have been narrowed down to four at present: age, serum cholesterol content (chol), maximum heart rate (thalach), and the number of major vessels visible by fluoroscopy (ca). We have initially chosen these variables given that they have numerical outputs and thus provide a good foundation for drafting a classification model; furthermore, they are highly relevant factors of  CAD and are expected to play major roles in achieving our objective of accurately diagnosing CAD. We hope to be able to increase the number of our predictors with further exploration of this project. "
   ]
  },
  {
   "cell_type": "markdown",
   "id": "51977a56-700e-41ca-ab0f-7816ffc97606",
   "metadata": {},
   "source": [
    "### Expected outcomes and significance\r",
    "We expect to see a general trend in the data where an increase or positive deviation in most variables (e.g. age, serum cholesterol, etc.) is positively correlated with progression of CAD and with each other. For example, we expect to see that serum cholesterol content  is positively correlated with maximum heart rate, and that positive deviation in both these variables is correlated with the presence/progression of CAD. We also expect that these positive correlations are in turn increasingly positively  correlated with the presence/progression of CAD. The impact of these findings would be significant with regards to identifying a definite threshold or litmus in these variables, which could be extremely helpful in outlining a more concrete and reliable method of diagnosing CAD.D.\r\n"
   ]
  },
  {
   "cell_type": "code",
   "execution_count": null,
   "id": "1138cb9f-3171-484e-b664-9c376887d2da",
   "metadata": {},
   "outputs": [
    {
     "name": "stderr",
     "output_type": "stream",
     "text": [
      "Warning message:\n",
      "“package ‘ggplot2’ was built under R version 4.3.2”\n",
      "── \u001b[1mAttaching core tidyverse packages\u001b[22m ──────────────────────── tidyverse 2.0.0 ──\n",
      "\u001b[32m✔\u001b[39m \u001b[34mdplyr    \u001b[39m 1.1.3     \u001b[32m✔\u001b[39m \u001b[34mreadr    \u001b[39m 2.1.4\n",
      "\u001b[32m✔\u001b[39m \u001b[34mforcats  \u001b[39m 1.0.0     \u001b[32m✔\u001b[39m \u001b[34mstringr  \u001b[39m 1.5.0\n",
      "\u001b[32m✔\u001b[39m \u001b[34mggplot2  \u001b[39m 3.5.0     \u001b[32m✔\u001b[39m \u001b[34mtibble   \u001b[39m 3.2.1\n",
      "\u001b[32m✔\u001b[39m \u001b[34mlubridate\u001b[39m 1.9.2     \u001b[32m✔\u001b[39m \u001b[34mtidyr    \u001b[39m 1.3.0\n",
      "\u001b[32m✔\u001b[39m \u001b[34mpurrr    \u001b[39m 1.0.2     \n",
      "── \u001b[1mConflicts\u001b[22m ────────────────────────────────────────── tidyverse_conflicts() ──\n",
      "\u001b[31m✖\u001b[39m \u001b[34mdplyr\u001b[39m::\u001b[32mfilter()\u001b[39m masks \u001b[34mstats\u001b[39m::filter()\n",
      "\u001b[31m✖\u001b[39m \u001b[34mdplyr\u001b[39m::\u001b[32mlag()\u001b[39m    masks \u001b[34mstats\u001b[39m::lag()\n",
      "\u001b[36mℹ\u001b[39m Use the conflicted package (\u001b[3m\u001b[34m<http://conflicted.r-lib.org/>\u001b[39m\u001b[23m) to force all conflicts to become errors\n",
      "── \u001b[1mAttaching packages\u001b[22m ────────────────────────────────────── tidymodels 1.1.1 ──\n",
      "\n",
      "\u001b[32m✔\u001b[39m \u001b[34mbroom       \u001b[39m 1.0.5     \u001b[32m✔\u001b[39m \u001b[34mrsample     \u001b[39m 1.2.0\n",
      "\u001b[32m✔\u001b[39m \u001b[34mdials       \u001b[39m 1.2.0     \u001b[32m✔\u001b[39m \u001b[34mtune        \u001b[39m 1.1.2\n",
      "\u001b[32m✔\u001b[39m \u001b[34minfer       \u001b[39m 1.0.5     \u001b[32m✔\u001b[39m \u001b[34mworkflows   \u001b[39m 1.1.3\n",
      "\u001b[32m✔\u001b[39m \u001b[34mmodeldata   \u001b[39m 1.2.0     \u001b[32m✔\u001b[39m \u001b[34mworkflowsets\u001b[39m 1.0.1\n",
      "\u001b[32m✔\u001b[39m \u001b[34mparsnip     \u001b[39m 1.1.1     \u001b[32m✔\u001b[39m \u001b[34myardstick   \u001b[39m 1.2.0\n",
      "\u001b[32m✔\u001b[39m \u001b[34mrecipes     \u001b[39m 1.0.8     \n",
      "\n",
      "── \u001b[1mConflicts\u001b[22m ───────────────────────────────────────── tidymodels_conflicts() ──\n",
      "\u001b[31m✖\u001b[39m \u001b[34mscales\u001b[39m::\u001b[32mdiscard()\u001b[39m masks \u001b[34mpurrr\u001b[39m::discard()\n",
      "\u001b[31m✖\u001b[39m \u001b[34mdplyr\u001b[39m::\u001b[32mfilter()\u001b[39m   masks \u001b[34mstats\u001b[39m::filter()\n",
      "\u001b[31m✖\u001b[39m \u001b[34mrecipes\u001b[39m::\u001b[32mfixed()\u001b[39m  masks \u001b[34mstringr\u001b[39m::fixed()\n",
      "\u001b[31m✖\u001b[39m \u001b[34mdplyr\u001b[39m::\u001b[32mlag()\u001b[39m      masks \u001b[34mstats\u001b[39m::lag()\n",
      "\u001b[31m✖\u001b[39m \u001b[34myardstick\u001b[39m::\u001b[32mspec()\u001b[39m masks \u001b[34mreadr\u001b[39m::spec()\n",
      "\u001b[31m✖\u001b[39m \u001b[34mrecipes\u001b[39m::\u001b[32mstep()\u001b[39m   masks \u001b[34mstats\u001b[39m::step()\n",
      "\u001b[34m•\u001b[39m Search for functions across packages at \u001b[32mhttps://www.tidymodels.org/find/\u001b[39m\n",
      "\n"
     ]
    }
   ],
   "source": [
    "#loading in the library necessary\n",
    "library(tidyverse)\n",
    "library(repr)\n",
    "library(tidymodels)\n",
    "install.packages(\"themis\")\n",
    "library(themis)\n",
    "install.packages(\"rvest\")\n",
    "library(rvest)\n",
    "options(repr.matrix.max.rows = 6)"
   ]
  },
  {
   "cell_type": "code",
   "execution_count": null,
   "id": "47b5edff-535b-4d4e-a9ad-2bfe48b70d1b",
   "metadata": {},
   "outputs": [],
   "source": [
    "# read data\n",
    "cleveland <- read_csv(\"https://raw.githubusercontent.com/JennWan/Group_Project/main/heart%20disease%20data/original%20data/processed.cleveland.data.csv\", col_names = F)"
   ]
  },
  {
   "cell_type": "code",
   "execution_count": null,
   "id": "152fe145-636f-41e8-953b-304ad3727634",
   "metadata": {},
   "outputs": [],
   "source": [
    "# renaming variables for readability \n",
    "colnames(cleveland) <- c(\"age\", \"sex\", \"cp\", \"trestbps\", \"chol\", \"fbs\", \"restecg\", \n",
    "                                   \"thalach\", \"exang\", \"oldpeak\", \"slope\", \"ca\", \"thal\", \"num\")\n",
    "\n",
    "cleveland"
   ]
  },
  {
   "cell_type": "code",
   "execution_count": null,
   "id": "22b245b4-e666-4999-9406-e6ef2d939e8b",
   "metadata": {},
   "outputs": [],
   "source": [
    "# filtering the heart disease data to only include our class and predictors\n",
    "cleveland_filter <- cleveland |>\n",
    "            select(age, chol, thalach, num) |>\n",
    "            mutate(num = as_factor(num)) |>\n",
    "            sample_n(300)\n",
    "cleveland_filter"
   ]
  },
  {
   "cell_type": "code",
   "execution_count": null,
   "id": "f7685f09-c14a-40fb-92c6-ed7176309fb8",
   "metadata": {},
   "outputs": [],
   "source": [
    "# find the number and percentage of differing presence of heart disease observations in our data set\n",
    "# to check for class imbalance\n",
    "\n",
    "num_obs <- nrow(cleveland_filter)\n",
    "    cleveland_filter |>\n",
    "    group_by(num) |>\n",
    "    summarize(\n",
    "        count = n(),\n",
    "        percentage = n() / num_obs * 100)"
   ]
  },
  {
   "cell_type": "code",
   "execution_count": null,
   "id": "0ddac68b-ee95-4575-9718-b5352d3d6f88",
   "metadata": {},
   "outputs": [],
   "source": [
    "# center, scaling and balancing the heart disease data\n",
    "recipe <- recipe(num ~ ., data = cleveland_filter) |>\n",
    "    step_scale(chol, thalach) |>\n",
    "    step_center(chol, thalach) |>\n",
    "    step_upsample(num, over_ratio = 1, skip = FALSE) |>\n",
    "    prep()\n",
    "\n",
    "preprocessed_cleveland <- bake(recipe, cleveland_filter)\n",
    "preprocessed_cleveland"
   ]
  },
  {
   "cell_type": "code",
   "execution_count": null,
   "id": "9f4bfc30-0ee4-4e81-9f54-78781aa44a9d",
   "metadata": {},
   "outputs": [],
   "source": [
    "# find the number and percentage of differing presence of heart disease observations in our data set\n",
    "# double check class imbalance\n",
    "\n",
    "num_obs <- nrow(preprocessed_cleveland)\n",
    "    preprocessed_cleveland |>\n",
    "    group_by(num) |>\n",
    "    summarize(\n",
    "        count = n(),\n",
    "        percentage = n() / num_obs * 100)"
   ]
  },
  {
   "cell_type": "code",
   "execution_count": null,
   "id": "4308529d-6256-4cdd-afc4-04e6f17872e3",
   "metadata": {},
   "outputs": [],
   "source": [
    "# create the TRAIN SET and TEST SET\n",
    "set.seed(2000)\n",
    "\n",
    "cleveland_split <- initial_split(preprocessed_cleveland, prop = 0.75, strata = num)\n",
    "cleveland_train <- training(cleveland_split) \n",
    "cleveland_test <- testing(cleveland_split)"
   ]
  },
  {
   "cell_type": "markdown",
   "id": "8c86af4e-13e7-494d-87e6-51d1199c4c95",
   "metadata": {},
   "source": [
    "### Preliminary Exploratory Data Analysis"
   ]
  },
  {
   "cell_type": "code",
   "execution_count": null,
   "id": "6ff2b366-0fcd-4937-bde0-450d77d17d9a",
   "metadata": {},
   "outputs": [],
   "source": [
    "# create tbl to compare the average_age for each stage of heart disease presence and arrange by average_age\n",
    "exploration_tbl1 <- cleveland_train |>\n",
    "    group_by(num) |>\n",
    "    summarize(average_age = mean(age)) |>\n",
    "    arrange(average_age)\n",
    "\n",
    "exploration_tbl1"
   ]
  },
  {
   "cell_type": "code",
   "execution_count": null,
   "id": "a374cd64-4c5a-43bd-b2c1-a58bf555f863",
   "metadata": {},
   "outputs": [],
   "source": [
    "# create tbl to compare average_chol for each stage of heart disease presence and arrange by average_colestoral\n",
    "exploration_tbl2 <- cleveland_train |>\n",
    "    group_by(num) |>\n",
    "    summarize(average_cholesterol = mean(chol)) |>\n",
    "    arrange(average_cholesterol)\n",
    "\n",
    "exploration_tbl2"
   ]
  },
  {
   "cell_type": "code",
   "execution_count": null,
   "id": "f7430132-359b-42ab-a30a-541cc86964af",
   "metadata": {},
   "outputs": [],
   "source": [
    "# create tbl to compare average_max_heartrate for each stage of heart disease presence and arrange by average_max_heartrate\n",
    "exploration_tbl3 <- cleveland_train |>\n",
    "    group_by(num) |>\n",
    "    summarize(average_max_heartrate = mean(thalach)) |>\n",
    "    arrange(average_max_heartrate)\n",
    "\n",
    "exploration_tbl3"
   ]
  },
  {
   "cell_type": "code",
   "execution_count": null,
   "id": "fb1e6b89-a57c-43b9-83c5-d370bd75cc51",
   "metadata": {},
   "outputs": [],
   "source": [
    "# draw a scatter plot to visualize the relationship between the age and chol (serum cholestoral in mg/d) predictors/variables\n",
    "\n",
    "options(repr.plot.height = 6, repr.plot.width = 8)\n",
    "exploration_plot1 <- cleveland_train |>\n",
    "  ggplot(aes(x = age, y = chol, color = num)) +\n",
    "  geom_point(alpha = 0.6) +\n",
    "  labs(x = \"Age (years)\",\n",
    "       y = \"Serum Cholesterol (standardized)\",\n",
    "       color = \"Presence of Heart Disease\", \n",
    "       title = \"Visualization of Serum Cholesterol vs Age\") + \n",
    "  theme(text = element_text(size = 16))\n",
    "\n",
    "exploration_plot1"
   ]
  },
  {
   "cell_type": "code",
   "execution_count": null,
   "id": "1910d935-bd27-49bc-8509-ca68546e7d93",
   "metadata": {
    "scrolled": true
   },
   "outputs": [],
   "source": [
    "# draw a scatter plot to visualize the relationship between the age and thalach (maximum heart rate achieved) predictors/variables\n",
    "\n",
    "options(repr.plot.height = 6, repr.plot.width = 8)\n",
    "exploration_plot2 <- cleveland_train |>\n",
    "  ggplot(aes(x = age, y = thalach, color = num)) +\n",
    "  geom_point(alpha = 0.6) +\n",
    "  labs(x = \"Age (years)\",\n",
    "       y = \"Maximum Heart Rate Achieved (standardized)\",\n",
    "       color = \"Presence of Heart Disease\", \n",
    "       title = \"Visualization of Maximum Heart Rate Achieved vs Age\") + \n",
    "  theme(text = element_text(size = 16))\n",
    "\n",
    "exploration_plot2"
   ]
  },
  {
   "cell_type": "code",
   "execution_count": null,
   "id": "8ffecc50-57be-4834-8619-253b771cd375",
   "metadata": {
    "scrolled": true
   },
   "outputs": [],
   "source": [
    "# draw a scatter plot to visualize the relationship between chol (serum cholestoral in mg/d) and thalach (maximum heart rate achieved) predictors/variables\n",
    "\n",
    "options(repr.plot.height = 6, repr.plot.width = 8)\n",
    "exploration_plot3 <- cleveland_train |>\n",
    "  ggplot(aes(x = chol, y = thalach, color = num)) +\n",
    "  geom_point(alpha = 0.6) +\n",
    "  labs(x = \"Serum Cholesterol (standardized)\",\n",
    "       y = \"Maximum Heart Rate Achieved (standardized)\",\n",
    "       color = \"Presence of Heart Disease\", \n",
    "       title = \"Visualization of Maximum Heart Rate Achieved vs Serum Cholesterol\") + \n",
    "  theme(text = element_text(size = 16))\n",
    "\n",
    "exploration_plot3"
   ]
  },
  {
   "cell_type": "markdown",
   "id": "8a3063f9-7de2-4595-b120-fcfa27f4ec84",
   "metadata": {},
   "source": [
    "## Exploration Graph Analysis\n",
    "Our tables are relevant in assisting our analysis towards answering our question, as it demonstrates the possible relationship between each predictor and our class. Where within all the tables one in particular clearly demonstrates that there are some positive relationship between the predictor age and num, the presence of heart disease.\n",
    "\n",
    "Our plots help visually protray further relationship between more variables, whereas there is no clear relationship observed.\n",
    "\n",
    "To conclude, within the previous tables and plots there does not seem to be any obvious relationship other than the positive relationship between age and the presence of heart disease. It is oberved that between age and the presence of heart disease, num, there is a moderately positive linear relationship where the increase of age has a correlationing increase in the presence of heart disease."
   ]
  },
  {
   "cell_type": "markdown",
   "id": "e19df791-d33e-47c7-b9fc-d7ffa7254aaf",
   "metadata": {},
   "source": [
    "## Data Analysis"
   ]
  },
  {
   "cell_type": "code",
   "execution_count": null,
   "id": "3fdd3fee-ad57-431e-af3b-07f78c1f26a2",
   "metadata": {},
   "outputs": [],
   "source": [
    "# find the best k neighbour value to use with V-fold cross validation\n",
    "cleveland_vfold <- vfold_cv(cleveland_train, v = 5, strata = num)\n",
    "\n",
    "cleveland_recipe <- recipe(num ~ ., data = cleveland_train) |>\n",
    "                    step_scale(all_predictors()) |>\n",
    "                    step_center(all_predictors())\n",
    "\n",
    "cleveland_spec <- nearest_neighbor(weight_func = \"rectangular\", neighbors = tune()) |>\n",
    "            set_engine(\"kknn\") |>\n",
    "            set_mode(\"classification\")\n",
    "\n",
    "gridvals = tibble(neighbors = seq(from = 1, to = 80, by = 5))\n",
    "\n",
    "set.seed(2000)\n",
    "\n",
    "cleveland_results <- workflow() |>\n",
    "            add_recipe(cleveland_recipe) |>\n",
    "            add_model(cleveland_spec) |>\n",
    "            tune_grid(resamples = cleveland_vfold, grid = gridvals) |>\n",
    "            collect_metrics() |>\n",
    "            filter(.metric == \"accuracy\")\n",
    "cleveland_results\n",
    "\n",
    "# plot k values against their respective accuracies and choose optimal k value\n",
    "cross_val_plot <- cleveland_results |> \n",
    "    ggplot(aes(x = neighbors, y = mean)) +\n",
    "    geom_point() +\n",
    "    geom_line() +\n",
    "    labs(x = \"Neighbors\", y = \"Accuracy Estimate\") +\n",
    "    theme(text = element_text(size = 20))\n",
    "cross_val_plot"
   ]
  },
  {
   "cell_type": "code",
   "execution_count": null,
   "id": "57939d4d-b9b1-4fb6-ac86-d9d479ad97d6",
   "metadata": {},
   "outputs": [],
   "source": [
    "# compare the accuracy of predictions to the true values in the test set\n",
    "cleveland_best_spec <- nearest_neighbor(weight_func = \"rectangular\", neighbors = 5) |>\n",
    "  set_engine(\"kknn\") |>\n",
    "  set_mode(\"classification\")\n",
    "\n",
    "cleveland_fit <- workflow() |>\n",
    "  add_recipe(cleveland_recipe) |>\n",
    "  add_model(cleveland_best_spec) |>\n",
    "  fit(data = cleveland_train)\n",
    "\n",
    "cleveland_predictions <- predict(cleveland_fit, cleveland_test) |> \n",
    "    bind_cols(cleveland_test)\n",
    "\n",
    "cleveland_acc <- cleveland_predictions |> \n",
    "    metrics(truth = num, estimate = .pred_class) |> \n",
    "    select(.metric, .estimate) |> \n",
    "    head(1)\n",
    "cleveland_acc\n",
    "\n",
    "cleveland_cm <- cleveland_predictions |> \n",
    "    conf_mat(truth = num, estimate = .pred_class)\n",
    "cleveland_cm"
   ]
  },
  {
   "cell_type": "markdown",
   "id": "56330192-8182-4f28-846c-947f5bcfefdd",
   "metadata": {},
   "source": [
    "### Work Cited\n",
    "Marateb HR, Goudarzi S. A noninvasive method for coronary artery diseases diagnosis using a clinically-interpretable fuzzy rule-based system. J Res Med Sci. 2015 Mar;20(3):214-23. PMID: 26109965; PMCID: PMC4468223."
   ]
  }
 ],
 "metadata": {
  "kernelspec": {
   "display_name": "R",
   "language": "R",
   "name": "ir"
  },
  "language_info": {
   "codemirror_mode": "r",
   "file_extension": ".r",
   "mimetype": "text/x-r-source",
   "name": "R",
   "pygments_lexer": "r",
   "version": "4.3.1"
  }
 },
 "nbformat": 4,
 "nbformat_minor": 5
}
