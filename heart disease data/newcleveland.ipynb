{
 "cells": [
  {
   "cell_type": "markdown",
   "id": "3d0a220a-ad29-4237-911c-b93dc86ac062",
   "metadata": {},
   "source": [
    "# Load Data From The Original Source On The Web "
   ]
  },
  {
   "cell_type": "code",
   "execution_count": null,
   "id": "60f6933d-9857-4cff-b7b2-3c821a5c8aee",
   "metadata": {
    "scrolled": true
   },
   "outputs": [
    {
     "name": "stderr",
     "output_type": "stream",
     "text": [
      "Updating HTML index of packages in '.Library'\n",
      "\n",
      "Making 'packages.html' ...\n",
      " done\n",
      "\n"
     ]
    }
   ],
   "source": [
    "#loading in the library necessary\n",
    "library(tidyverse)\n",
    "install.packages(\"tidyverse\")\n",
    "library(repr)\n",
    "library(tidymodels)\n",
    "install.packages(\"themis\")\n",
    "library(themis)\n",
    "options(repr.matrix.max.rows = 6)"
   ]
  },
  {
   "cell_type": "code",
   "execution_count": 10,
   "id": "55655ba6-341b-45b8-8143-da585dca6193",
   "metadata": {},
   "outputs": [
    {
     "name": "stderr",
     "output_type": "stream",
     "text": [
      "\u001b[1mRows: \u001b[22m\u001b[34m303\u001b[39m \u001b[1mColumns: \u001b[22m\u001b[34m15\u001b[39m\n",
      "\u001b[36m──\u001b[39m \u001b[1mColumn specification\u001b[22m \u001b[36m────────────────────────────────────────────────────────\u001b[39m\n",
      "\u001b[1mDelimiter:\u001b[22m \",\"\n",
      "\u001b[31mchr\u001b[39m (10): X2, X3, X6, X7, X9, X11, X12, X13, X14, X15\n",
      "\u001b[32mdbl\u001b[39m  (5): X1, X4, X5, X8, X10\n",
      "\n",
      "\u001b[36mℹ\u001b[39m Use `spec()` to retrieve the full column specification for this data.\n",
      "\u001b[36mℹ\u001b[39m Specify the column types or set `show_col_types = FALSE` to quiet this message.\n"
     ]
    }
   ],
   "source": [
    "#loads the data\n",
    "cleveland <- read_csv(\"https://raw.githubusercontent.com/JennWan/Group_Project/main/new%20data/newcleveland_data.csv\", col_names = F)"
   ]
  },
  {
   "cell_type": "markdown",
   "id": "911e414b-44aa-4c86-83d8-0311e9d30572",
   "metadata": {},
   "source": [
    "# Wrangling and Cleaning The Data"
   ]
  },
  {
   "cell_type": "code",
   "execution_count": null,
   "id": "ef5e51ec-2f77-454a-b54e-c5efb17df976",
   "metadata": {},
   "outputs": [],
   "source": [
    "#renaming variables for readability \n",
    "colnames(cleveland) <- c(\"age\", \"sex\", \"cp\", \"trestbps\", \"chol\", \"fbs\", \"restecg\", \n",
    "                         \"thalach\", \"exang\", \"oldpeak\", \"slope\", \"ca\", \"thal\", \"num\")\n",
    "cleveland\n",
    "cleveland_tidy <- cleveland |>\n",
    "                select(age, cp, trestbps, chol, fbs, thalach, exang, ca, thal, num) |>\n",
    "                mutate(age = as.integer(age), \n",
    "                       trestbps = as.integer(trestbps), \n",
    "                       chol = as.integer(chol), \n",
    "                       thalach = as.integer(thalach), \n",
    "                       cp = as_factor(cp), \n",
    "                       fbs = as_factor(fbs), \n",
    "                       exang = as_factor(exang), \n",
    "                       ca = as.integer(ca), \n",
    "                       thal = as_factor(thal), \n",
    "                       num = as_factor(num))"
   ]
  },
  {
   "cell_type": "code",
   "execution_count": null,
   "id": "9fb7fc5e-83d5-445f-a856-a05ee30ed95b",
   "metadata": {},
   "outputs": [],
   "source": [
    "cleveland_tidy <- cleveland_tidy |>\n",
    "                mutate(ca = as_factor(ca)) |>\n",
    "                filter(!is.na(ca), !is.na(thal))\n",
    "cleveland_tidy"
   ]
  },
  {
   "cell_type": "code",
   "execution_count": null,
   "id": "d7d93537-ae08-4e35-831b-232dd6e4a765",
   "metadata": {},
   "outputs": [],
   "source": [
    "# filtering the heart disease data to only include our class and predictors\n",
    "cleveland_filter <- cleveland |>\n",
    "            select(age, chol, thalach, num) |>\n",
    "            mutate(num = as_factor(num)) |>\n",
    "            sample_n(300)\n",
    "cleveland_filter"
   ]
  },
  {
   "cell_type": "code",
   "execution_count": null,
   "id": "b6503944-10b7-4ba3-9466-88c16b900f60",
   "metadata": {},
   "outputs": [],
   "source": [
    "# find the number and percentage of differing presence of heart disease observations in our data set\n",
    "# to check for class imbalance\n",
    "\n",
    "num_obs <- nrow(cleveland_filter)\n",
    "    cleveland_filter |>\n",
    "    group_by(num) |>\n",
    "    summarize(\n",
    "        count = n(),\n",
    "        percentage = n() / num_obs * 100)"
   ]
  },
  {
   "cell_type": "code",
   "execution_count": null,
   "id": "877ba0ef-0d78-4679-b206-6936b7e227a4",
   "metadata": {},
   "outputs": [],
   "source": [
    "# center, scaling and balancing the heart disease data\n",
    "recipe <- recipe(num ~ ., data = cleveland_filter) |>\n",
    "    step_scale(chol, thalach) |>\n",
    "    step_center(chol, thalach) |>\n",
    "    step_upsample(num, over_ratio = 1, skip = FALSE) |>\n",
    "    prep()\n",
    "\n",
    "preprocessed_cleveland <- bake(recipe, cleveland_filter)\n",
    "preprocessed_cleveland"
   ]
  },
  {
   "cell_type": "code",
   "execution_count": null,
   "id": "fd853232-b974-4152-8f81-c814f4043838",
   "metadata": {},
   "outputs": [],
   "source": [
    "# find the number and percentage of differing presence of heart disease observations in our data set\n",
    "# double check class imbalance\n",
    "\n",
    "num_obs <- nrow(preprocessed_cleveland)\n",
    "    preprocessed_cleveland |>\n",
    "    group_by(num) |>\n",
    "    summarize(\n",
    "        count = n(),\n",
    "        percentage = n() / num_obs * 100)"
   ]
  },
  {
   "cell_type": "code",
   "execution_count": null,
   "id": "7030ca15-cedf-46d7-ab08-558400c59ba2",
   "metadata": {},
   "outputs": [],
   "source": [
    "# create the TRAIN SET and TEST SET\n",
    "set.seed(2000)\n",
    "\n",
    "cleveland_split <- initial_split(preprocessed_cleveland, prop = 0.75, strata = num)\n",
    "cleveland_train <- training(cleveland_split) \n",
    "cleveland_test <- testing(cleveland_split)"
   ]
  },
  {
   "cell_type": "markdown",
   "id": "1b916c8c-cb06-4a0c-98be-110cd1bf8f5c",
   "metadata": {},
   "source": [
    "## Preliminary Exploratory Data Analysis"
   ]
  },
  {
   "cell_type": "markdown",
   "id": "77228a0d-b39b-40e0-ae46-d1a74658db0d",
   "metadata": {},
   "source": [
    "# Data Analysis"
   ]
  },
  {
   "cell_type": "code",
   "execution_count": null,
   "id": "4a086efe-9bd7-4bb1-876f-81d69bcdf4c1",
   "metadata": {},
   "outputs": [],
   "source": []
  }
 ],
 "metadata": {
  "kernelspec": {
   "display_name": "R",
   "language": "R",
   "name": "ir"
  },
  "language_info": {
   "codemirror_mode": "r",
   "file_extension": ".r",
   "mimetype": "text/x-r-source",
   "name": "R",
   "pygments_lexer": "r",
   "version": "4.3.1"
  }
 },
 "nbformat": 4,
 "nbformat_minor": 5
}
