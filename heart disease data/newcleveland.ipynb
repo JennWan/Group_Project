{
 "cells": [
  {
   "cell_type": "markdown",
   "id": "3d0a220a-ad29-4237-911c-b93dc86ac062",
   "metadata": {},
   "source": [
    "# Load Data From The Original Source On The Web "
   ]
  },
  {
   "cell_type": "code",
   "execution_count": null,
   "id": "60f6933d-9857-4cff-b7b2-3c821a5c8aee",
   "metadata": {
    "scrolled": true
   },
   "outputs": [
    {
     "name": "stderr",
     "output_type": "stream",
     "text": [
      "Updating HTML index of packages in '.Library'\n",
      "\n",
      "Making 'packages.html' ...\n",
      " done\n",
      "\n"
     ]
    }
   ],
   "source": [
    "#loading in the library necessary\n",
    "library(tidyverse)\n",
    "install.packages(\"tidyverse\")\n",
    "library(repr)\n",
    "library(tidymodels)\n",
    "install.packages(\"themis\")\n",
    "library(themis)\n",
    "options(repr.matrix.max.rows = 6)"
   ]
  },
  {
   "cell_type": "code",
   "execution_count": 4,
   "id": "55655ba6-341b-45b8-8143-da585dca6193",
   "metadata": {},
   "outputs": [
    {
     "ename": "ERROR",
     "evalue": "Error in open.connection(structure(5L, class = c(\"curl\", \"connection\"), conn_id = <pointer: 0xbcb>), : HTTP error 404.\n",
     "output_type": "error",
     "traceback": [
      "Error in open.connection(structure(5L, class = c(\"curl\", \"connection\"), conn_id = <pointer: 0xbcb>), : HTTP error 404.\nTraceback:\n",
      "1. read_csv(\"https://raw.githubusercontent.com/JennWan/Group_Project/main/heart%20disease%20data/original%20data/cleve-Copy1.mod.csv\", \n .     col_names = F)",
      "2. vroom::vroom(file, delim = \",\", col_names = col_names, col_types = col_types, \n .     col_select = {\n .         {\n .             col_select\n .         }\n .     }, id = id, .name_repair = name_repair, skip = skip, n_max = n_max, \n .     na = na, quote = quote, comment = comment, skip_empty_rows = skip_empty_rows, \n .     trim_ws = trim_ws, escape_double = TRUE, escape_backslash = FALSE, \n .     locale = locale, guess_max = guess_max, show_col_types = show_col_types, \n .     progress = progress, altrep = lazy, num_threads = num_threads)",
      "3. vroom_(file, delim = delim %||% col_types$delim, col_names = col_names, \n .     col_types = col_types, id = id, skip = skip, col_select = col_select, \n .     name_repair = .name_repair, na = na, quote = quote, trim_ws = trim_ws, \n .     escape_double = escape_double, escape_backslash = escape_backslash, \n .     comment = comment, skip_empty_rows = skip_empty_rows, locale = locale, \n .     guess_max = guess_max, n_max = n_max, altrep = vroom_altrep(altrep), \n .     num_threads = num_threads, progress = progress)",
      "4. (function (con, ...) \n . UseMethod(\"open\"))(structure(5L, class = c(\"curl\", \"connection\"\n . ), conn_id = <pointer: 0xbcb>), \"rb\")",
      "5. open.connection(structure(5L, class = c(\"curl\", \"connection\"), conn_id = <pointer: 0xbcb>), \n .     \"rb\")"
     ]
    }
   ],
   "source": [
    "#loads the data\n",
    "cleveland <- read_csv(\"https://raw.githubusercontent.com/JennWan/Group_Project/main/heart%20disease%20data/original%20data/cleve-Copy1.mod.csv\", col_names = F)"
   ]
  },
  {
   "cell_type": "markdown",
   "id": "911e414b-44aa-4c86-83d8-0311e9d30572",
   "metadata": {},
   "source": [
    "# Wrangling and Cleaning The Data"
   ]
  },
  {
   "cell_type": "code",
   "execution_count": null,
   "id": "ef5e51ec-2f77-454a-b54e-c5efb17df976",
   "metadata": {},
   "outputs": [],
   "source": [
    "#renaming variables for readability \n",
    "colnames(cleveland) <- c(\"age\", \"sex\", \"cp\", \"trestbps\", \"chol\", \"fbs\", \"restecg\", \n",
    "                         \"thalach\", \"exang\", \"oldpeak\", \"slope\", \"ca\", \"thal\", \"num\")\n",
    "cleveland\n",
    "cleveland_tidy <- cleveland |>\n",
    "                select(age, cp, trestbps, chol, fbs, thalach, exang, ca, thal, num) |>\n",
    "                mutate(age = as.integer(age), \n",
    "                       trestbps = as.integer(trestbps), \n",
    "                       chol = as.integer(chol), \n",
    "                       thalach = as.integer(thalach), \n",
    "                       cp = as_factor(cp), \n",
    "                       fbs = as_factor(fbs), \n",
    "                       exang = as_factor(exang), \n",
    "                       ca = as.integer(ca), \n",
    "                       thal = as_factor(thal), \n",
    "                       num = as_factor(num))"
   ]
  },
  {
   "cell_type": "code",
   "execution_count": null,
   "id": "9fb7fc5e-83d5-445f-a856-a05ee30ed95b",
   "metadata": {},
   "outputs": [],
   "source": [
    "cleveland_tidy <- cleveland_tidy |>\n",
    "                mutate(ca = as_factor(ca)) |>\n",
    "                filter(!is.na(ca), !is.na(thal))\n",
    "cleveland_tidy"
   ]
  },
  {
   "cell_type": "markdown",
   "id": "1b916c8c-cb06-4a0c-98be-110cd1bf8f5c",
   "metadata": {},
   "source": [
    "## Preliminary Exploratory Data Analysis"
   ]
  },
  {
   "cell_type": "code",
   "execution_count": null,
   "id": "d7d93537-ae08-4e35-831b-232dd6e4a765",
   "metadata": {},
   "outputs": [],
   "source": []
  },
  {
   "cell_type": "markdown",
   "id": "77228a0d-b39b-40e0-ae46-d1a74658db0d",
   "metadata": {},
   "source": [
    "# Data Analysis"
   ]
  },
  {
   "cell_type": "code",
   "execution_count": null,
   "id": "4a086efe-9bd7-4bb1-876f-81d69bcdf4c1",
   "metadata": {},
   "outputs": [],
   "source": []
  }
 ],
 "metadata": {
  "kernelspec": {
   "display_name": "R",
   "language": "R",
   "name": "ir"
  },
  "language_info": {
   "codemirror_mode": "r",
   "file_extension": ".r",
   "mimetype": "text/x-r-source",
   "name": "R",
   "pygments_lexer": "r",
   "version": "4.3.1"
  }
 },
 "nbformat": 4,
 "nbformat_minor": 5
}
