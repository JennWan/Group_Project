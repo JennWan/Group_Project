{
 "cells": [
  {
   "cell_type": "code",
   "execution_count": null,
   "id": "1138cb9f-3171-484e-b664-9c376887d2da",
   "metadata": {},
   "outputs": [],
   "source": [
    "### Run this cell before continuing. \n",
    "library(tidyverse)\n",
    "library(repr)\n",
    "library(tidymodels)\n",
    "options(repr.matrix.max.rows = 6)"
   ]
  },
  {
   "cell_type": "code",
   "execution_count": null,
   "id": "47b5edff-535b-4d4e-a9ad-2bfe48b70d1b",
   "metadata": {},
   "outputs": [],
   "source": [
    "# read data\n",
    "processed_cleveland <- read_csv(\"original data/processed.cleveland.data\", col_names = F)"
   ]
  },
  {
   "cell_type": "code",
   "execution_count": null,
   "id": "152fe145-636f-41e8-953b-304ad3727634",
   "metadata": {},
   "outputs": [],
   "source": [
    "#rename variables\n",
    "colnames(processed_cleveland) <- c(\"age\", \"sex\", \"cp\", \"trestbps\", \"chol\", \"fbs\", \"restecg\", \n",
    "                                   \"thalach\", \"exang\", \"oldpeak\", \"slope\", \"ca\", \"thal\", \"num\")\n",
    "\n",
    "processed_cleveland"
   ]
  },
  {
   "cell_type": "code",
   "execution_count": null,
   "id": "0ddac68b-ee95-4575-9718-b5352d3d6f88",
   "metadata": {},
   "outputs": [],
   "source": [
    "#create the TRAIN SET and TEST SET\n",
    "set.seed(2000)\n",
    "\n",
    "cleveland_filter <- processed_cleveland |>\n",
    "            select(age, chol, thalach, num) |>\n",
    "            mutate(num = as_factor(num)) |>\n",
    "            sample_n(300)\n",
    "cleveland_filter\n",
    "\n",
    "cleveland_split <- initial_split(cleveland_filter, prop = 0.75, strata = num)\n",
    "cleveland_train<- training(cleveland_split) \n",
    "cleveland_test <- testing(cleveland_split)\n",
    "\n",
    "# cleveland_vfold <- vfold_cv(cleveland_train, v = 5, strata = num)\n",
    "\n",
    "\n"
   ]
  },
  {
   "cell_type": "code",
   "execution_count": null,
   "id": "42afd68e-f862-479c-b355-5d04e3cd2971",
   "metadata": {},
   "outputs": [],
   "source": [
    "cleveland_recipe <- recipe(num ~ ., data = cleveland_train) |>\n",
    "                    step_scale(all_predictors()) |>\n",
    "                    step_center(all_predictors())\n",
    "\n",
    "knn_spec <- nearest_neighbor(weight_func = \"rectangular\", neighbors = tune()) |>\n",
    "            set_engine(\"kknn\") |>\n",
    "            set_mode(\"classification\")\n",
    "\n",
    "# gridvals = tibble(neighbors = seq(from = 1, to = 80, by = 5))\n",
    "\n",
    "set.seed(2000)\n",
    "\n",
    "cleve_workflow <- workflow() |>\n",
    "            add_recipe(cleveland_recipe) |>\n",
    "            add_model(knn_spec) |>\n",
    "            fit(data = cleveland_train)\n",
    "\n",
    "            # tune_grid(resamples = cleveland_vfold, grid = gridvals) \n"
   ]
  },
  {
   "cell_type": "code",
   "execution_count": null,
   "id": "77e40ef6-50f9-4621-8475-daa3bc849a6b",
   "metadata": {},
   "outputs": [],
   "source": [
    "# options(repr.plot.height = 5, repr.plot.width = 6)\n",
    "# cross_val_plot <- cleve_workflow |>\n",
    "#                 ggplot(aes(x = neighbors, y = mean)) +\n",
    "#                 geom_point() +\n",
    "#                 labs(x = \"Neighbors\", y = \"Accuracy\")\n",
    "# cross_val_plot"
   ]
  },
  {
   "cell_type": "code",
   "execution_count": null,
   "id": "380c90a8-bd48-429f-b0f0-fcd5bf15da23",
   "metadata": {},
   "outputs": [],
   "source": []
  }
 ],
 "metadata": {
  "kernelspec": {
   "display_name": "R",
   "language": "R",
   "name": "ir"
  },
  "language_info": {
   "codemirror_mode": "r",
   "file_extension": ".r",
   "mimetype": "text/x-r-source",
   "name": "R",
   "pygments_lexer": "r",
   "version": "4.3.1"
  }
 },
 "nbformat": 4,
 "nbformat_minor": 5
}
