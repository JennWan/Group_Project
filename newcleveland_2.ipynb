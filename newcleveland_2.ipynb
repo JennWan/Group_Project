{
 "cells": [
  {
   "cell_type": "markdown",
   "id": "3d0a220a-ad29-4237-911c-b93dc86ac062",
   "metadata": {},
   "source": [
    "# Load Data From The Original Source On The Web "
   ]
  },
  {
   "cell_type": "code",
   "execution_count": 1,
   "id": "60f6933d-9857-4cff-b7b2-3c821a5c8aee",
   "metadata": {},
   "outputs": [
    {
     "name": "stderr",
     "output_type": "stream",
     "text": [
      "Warning message:\n",
      "“package ‘ggplot2’ was built under R version 4.3.2”\n",
      "── \u001b[1mAttaching core tidyverse packages\u001b[22m ──────────────────────── tidyverse 2.0.0 ──\n",
      "\u001b[32m✔\u001b[39m \u001b[34mdplyr    \u001b[39m 1.1.3     \u001b[32m✔\u001b[39m \u001b[34mreadr    \u001b[39m 2.1.4\n",
      "\u001b[32m✔\u001b[39m \u001b[34mforcats  \u001b[39m 1.0.0     \u001b[32m✔\u001b[39m \u001b[34mstringr  \u001b[39m 1.5.0\n",
      "\u001b[32m✔\u001b[39m \u001b[34mggplot2  \u001b[39m 3.5.0     \u001b[32m✔\u001b[39m \u001b[34mtibble   \u001b[39m 3.2.1\n",
      "\u001b[32m✔\u001b[39m \u001b[34mlubridate\u001b[39m 1.9.2     \u001b[32m✔\u001b[39m \u001b[34mtidyr    \u001b[39m 1.3.0\n",
      "\u001b[32m✔\u001b[39m \u001b[34mpurrr    \u001b[39m 1.0.2     \n",
      "── \u001b[1mConflicts\u001b[22m ────────────────────────────────────────── tidyverse_conflicts() ──\n",
      "\u001b[31m✖\u001b[39m \u001b[34mdplyr\u001b[39m::\u001b[32mfilter()\u001b[39m masks \u001b[34mstats\u001b[39m::filter()\n",
      "\u001b[31m✖\u001b[39m \u001b[34mdplyr\u001b[39m::\u001b[32mlag()\u001b[39m    masks \u001b[34mstats\u001b[39m::lag()\n",
      "\u001b[36mℹ\u001b[39m Use the conflicted package (\u001b[3m\u001b[34m<http://conflicted.r-lib.org/>\u001b[39m\u001b[23m) to force all conflicts to become errors\n",
      "Updating HTML index of packages in '.Library'\n",
      "\n",
      "Making 'packages.html' ...\n",
      " done\n",
      "\n",
      "── \u001b[1mAttaching packages\u001b[22m ────────────────────────────────────── tidymodels 1.1.1 ──\n",
      "\n",
      "\u001b[32m✔\u001b[39m \u001b[34mbroom       \u001b[39m 1.0.5     \u001b[32m✔\u001b[39m \u001b[34mrsample     \u001b[39m 1.2.0\n",
      "\u001b[32m✔\u001b[39m \u001b[34mdials       \u001b[39m 1.2.0     \u001b[32m✔\u001b[39m \u001b[34mtune        \u001b[39m 1.1.2\n",
      "\u001b[32m✔\u001b[39m \u001b[34minfer       \u001b[39m 1.0.5     \u001b[32m✔\u001b[39m \u001b[34mworkflows   \u001b[39m 1.1.3\n",
      "\u001b[32m✔\u001b[39m \u001b[34mmodeldata   \u001b[39m 1.2.0     \u001b[32m✔\u001b[39m \u001b[34mworkflowsets\u001b[39m 1.0.1\n",
      "\u001b[32m✔\u001b[39m \u001b[34mparsnip     \u001b[39m 1.1.1     \u001b[32m✔\u001b[39m \u001b[34myardstick   \u001b[39m 1.2.0\n",
      "\u001b[32m✔\u001b[39m \u001b[34mrecipes     \u001b[39m 1.0.8     \n",
      "\n",
      "── \u001b[1mConflicts\u001b[22m ───────────────────────────────────────── tidymodels_conflicts() ──\n",
      "\u001b[31m✖\u001b[39m \u001b[34mscales\u001b[39m::\u001b[32mdiscard()\u001b[39m masks \u001b[34mpurrr\u001b[39m::discard()\n",
      "\u001b[31m✖\u001b[39m \u001b[34mdplyr\u001b[39m::\u001b[32mfilter()\u001b[39m   masks \u001b[34mstats\u001b[39m::filter()\n",
      "\u001b[31m✖\u001b[39m \u001b[34mrecipes\u001b[39m::\u001b[32mfixed()\u001b[39m  masks \u001b[34mstringr\u001b[39m::fixed()\n",
      "\u001b[31m✖\u001b[39m \u001b[34mdplyr\u001b[39m::\u001b[32mlag()\u001b[39m      masks \u001b[34mstats\u001b[39m::lag()\n",
      "\u001b[31m✖\u001b[39m \u001b[34myardstick\u001b[39m::\u001b[32mspec()\u001b[39m masks \u001b[34mreadr\u001b[39m::spec()\n",
      "\u001b[31m✖\u001b[39m \u001b[34mrecipes\u001b[39m::\u001b[32mstep()\u001b[39m   masks \u001b[34mstats\u001b[39m::step()\n",
      "\u001b[34m•\u001b[39m Learn how to get started at \u001b[32mhttps://www.tidymodels.org/start/\u001b[39m\n",
      "\n",
      "Updating HTML index of packages in '.Library'\n",
      "\n",
      "Making 'packages.html' ...\n",
      " done\n",
      "\n"
     ]
    }
   ],
   "source": [
    "#loading in the library necessary\n",
    "library(tidyverse)\n",
    "install.packages(\"tidyverse\")\n",
    "library(repr)\n",
    "library(tidymodels)\n",
    "install.packages(\"themis\")\n",
    "library(themis)\n",
    "options(repr.matrix.max.rows = 6)"
   ]
  },
  {
   "cell_type": "code",
   "execution_count": 2,
   "id": "55655ba6-341b-45b8-8143-da585dca6193",
   "metadata": {},
   "outputs": [
    {
     "name": "stderr",
     "output_type": "stream",
     "text": [
      "\u001b[1mRows: \u001b[22m\u001b[34m303\u001b[39m \u001b[1mColumns: \u001b[22m\u001b[34m15\u001b[39m\n",
      "\u001b[36m──\u001b[39m \u001b[1mColumn specification\u001b[22m \u001b[36m────────────────────────────────────────────────────────\u001b[39m\n",
      "\u001b[1mDelimiter:\u001b[22m \",\"\n",
      "\u001b[31mchr\u001b[39m (10): X2, X3, X6, X7, X9, X11, X12, X13, X14, X15\n",
      "\u001b[32mdbl\u001b[39m  (5): X1, X4, X5, X8, X10\n",
      "\n",
      "\u001b[36mℹ\u001b[39m Use `spec()` to retrieve the full column specification for this data.\n",
      "\u001b[36mℹ\u001b[39m Specify the column types or set `show_col_types = FALSE` to quiet this message.\n"
     ]
    }
   ],
   "source": [
    "#loads the data\n",
    "cleveland <- read_csv(\"https://raw.githubusercontent.com/JennWan/Group_Project/main/new%20data/newcleveland_data.csv\", col_names = F)"
   ]
  },
  {
   "cell_type": "markdown",
   "id": "911e414b-44aa-4c86-83d8-0311e9d30572",
   "metadata": {},
   "source": [
    "# Wrangling and Cleaning The Data"
   ]
  },
  {
   "cell_type": "code",
   "execution_count": 3,
   "id": "ef5e51ec-2f77-454a-b54e-c5efb17df976",
   "metadata": {
    "scrolled": true
   },
   "outputs": [
    {
     "name": "stderr",
     "output_type": "stream",
     "text": [
      "Warning message:\n",
      "“\u001b[1m\u001b[22mThere was 1 warning in `mutate()`.\n",
      "\u001b[1m\u001b[22m\u001b[36mℹ\u001b[39m In argument: `ca = as.integer(ca)`.\n",
      "Caused by warning:\n",
      "\u001b[33m!\u001b[39m NAs introduced by coercion”\n"
     ]
    },
    {
     "data": {
      "text/html": [
       "<table class=\"dataframe\">\n",
       "<caption>A tibble: 298 × 10</caption>\n",
       "<thead>\n",
       "\t<tr><th scope=col>age</th><th scope=col>cp</th><th scope=col>trestbps</th><th scope=col>chol</th><th scope=col>fbs</th><th scope=col>thalach</th><th scope=col>exang</th><th scope=col>ca</th><th scope=col>thal</th><th scope=col>num</th></tr>\n",
       "\t<tr><th scope=col>&lt;int&gt;</th><th scope=col>&lt;fct&gt;</th><th scope=col>&lt;int&gt;</th><th scope=col>&lt;int&gt;</th><th scope=col>&lt;fct&gt;</th><th scope=col>&lt;int&gt;</th><th scope=col>&lt;fct&gt;</th><th scope=col>&lt;fct&gt;</th><th scope=col>&lt;fct&gt;</th><th scope=col>&lt;fct&gt;</th></tr>\n",
       "</thead>\n",
       "<tbody>\n",
       "\t<tr><td>63</td><td>angina</td><td>145</td><td>233</td><td>true</td><td>150</td><td>fal </td><td>0</td><td>fix </td><td>buff</td></tr>\n",
       "\t<tr><td>67</td><td>asympt</td><td>160</td><td>286</td><td>fal </td><td>108</td><td>true</td><td>3</td><td>norm</td><td>sick</td></tr>\n",
       "\t<tr><td>67</td><td>asympt</td><td>120</td><td>229</td><td>fal </td><td>129</td><td>true</td><td>2</td><td>rev </td><td>sick</td></tr>\n",
       "\t<tr><td>⋮</td><td>⋮</td><td>⋮</td><td>⋮</td><td>⋮</td><td>⋮</td><td>⋮</td><td>⋮</td><td>⋮</td><td>⋮</td></tr>\n",
       "\t<tr><td>49</td><td>notang</td><td>118</td><td>149</td><td>fal</td><td>126</td><td>fal </td><td>3</td><td>norm</td><td>sick</td></tr>\n",
       "\t<tr><td>74</td><td>abnang</td><td>120</td><td>269</td><td>fal</td><td>121</td><td>true</td><td>1</td><td>norm</td><td>buff</td></tr>\n",
       "\t<tr><td>54</td><td>notang</td><td>160</td><td>201</td><td>fal</td><td>163</td><td>fal </td><td>1</td><td>norm</td><td>buff</td></tr>\n",
       "</tbody>\n",
       "</table>\n"
      ],
      "text/latex": [
       "A tibble: 298 × 10\n",
       "\\begin{tabular}{llllllllll}\n",
       " age & cp & trestbps & chol & fbs & thalach & exang & ca & thal & num\\\\\n",
       " <int> & <fct> & <int> & <int> & <fct> & <int> & <fct> & <fct> & <fct> & <fct>\\\\\n",
       "\\hline\n",
       "\t 63 & angina & 145 & 233 & true & 150 & fal  & 0 & fix  & buff\\\\\n",
       "\t 67 & asympt & 160 & 286 & fal  & 108 & true & 3 & norm & sick\\\\\n",
       "\t 67 & asympt & 120 & 229 & fal  & 129 & true & 2 & rev  & sick\\\\\n",
       "\t ⋮ & ⋮ & ⋮ & ⋮ & ⋮ & ⋮ & ⋮ & ⋮ & ⋮ & ⋮\\\\\n",
       "\t 49 & notang & 118 & 149 & fal & 126 & fal  & 3 & norm & sick\\\\\n",
       "\t 74 & abnang & 120 & 269 & fal & 121 & true & 1 & norm & buff\\\\\n",
       "\t 54 & notang & 160 & 201 & fal & 163 & fal  & 1 & norm & buff\\\\\n",
       "\\end{tabular}\n"
      ],
      "text/markdown": [
       "\n",
       "A tibble: 298 × 10\n",
       "\n",
       "| age &lt;int&gt; | cp &lt;fct&gt; | trestbps &lt;int&gt; | chol &lt;int&gt; | fbs &lt;fct&gt; | thalach &lt;int&gt; | exang &lt;fct&gt; | ca &lt;fct&gt; | thal &lt;fct&gt; | num &lt;fct&gt; |\n",
       "|---|---|---|---|---|---|---|---|---|---|\n",
       "| 63 | angina | 145 | 233 | true | 150 | fal  | 0 | fix  | buff |\n",
       "| 67 | asympt | 160 | 286 | fal  | 108 | true | 3 | norm | sick |\n",
       "| 67 | asympt | 120 | 229 | fal  | 129 | true | 2 | rev  | sick |\n",
       "| ⋮ | ⋮ | ⋮ | ⋮ | ⋮ | ⋮ | ⋮ | ⋮ | ⋮ | ⋮ |\n",
       "| 49 | notang | 118 | 149 | fal | 126 | fal  | 3 | norm | sick |\n",
       "| 74 | abnang | 120 | 269 | fal | 121 | true | 1 | norm | buff |\n",
       "| 54 | notang | 160 | 201 | fal | 163 | fal  | 1 | norm | buff |\n",
       "\n"
      ],
      "text/plain": [
       "    age cp     trestbps chol fbs  thalach exang ca thal num \n",
       "1   63  angina 145      233  true 150     fal   0  fix  buff\n",
       "2   67  asympt 160      286  fal  108     true  3  norm sick\n",
       "3   67  asympt 120      229  fal  129     true  2  rev  sick\n",
       "⋮   ⋮   ⋮      ⋮        ⋮    ⋮    ⋮       ⋮     ⋮  ⋮    ⋮   \n",
       "296 49  notang 118      149  fal  126     fal   3  norm sick\n",
       "297 74  abnang 120      269  fal  121     true  1  norm buff\n",
       "298 54  notang 160      201  fal  163     fal   1  norm buff"
      ]
     },
     "metadata": {},
     "output_type": "display_data"
    }
   ],
   "source": [
    "#renaming variables for readability \n",
    "colnames(cleveland) <- c(\"age\", \"sex\", \"cp\", \"trestbps\", \"chol\", \"fbs\", \"restecg\", \n",
    "                         \"thalach\", \"exang\", \"oldpeak\", \"slope\", \"ca\", \"thal\", \"num\")\n",
    "\n",
    "#selecting predictors of interest\n",
    "cleveland_tidy <- cleveland |>\n",
    "                select(age, cp, trestbps, chol, fbs, thalach, exang, ca, thal, num) |>\n",
    "                mutate(age = as.integer(age), \n",
    "                       trestbps = as.integer(trestbps), \n",
    "                       chol = as.integer(chol), \n",
    "                       thalach = as.integer(thalach), \n",
    "                       cp = as_factor(cp), \n",
    "                       fbs = as_factor(fbs), \n",
    "                       exang = as_factor(exang), \n",
    "                       ca = as.integer(ca), \n",
    "                       ca = as_factor(ca), \n",
    "                       thal = as_factor(thal), \n",
    "                       num = as_factor(num)) |>\n",
    "                filter(!is.na(ca), !is.na(thal))\n",
    "\n",
    "cleveland_tidy"
   ]
  },
  {
   "cell_type": "code",
   "execution_count": 4,
   "id": "b6503944-10b7-4ba3-9466-88c16b900f60",
   "metadata": {},
   "outputs": [
    {
     "data": {
      "text/html": [
       "<table class=\"dataframe\">\n",
       "<caption>A tibble: 2 × 3</caption>\n",
       "<thead>\n",
       "\t<tr><th scope=col>num</th><th scope=col>count</th><th scope=col>percentage</th></tr>\n",
       "\t<tr><th scope=col>&lt;fct&gt;</th><th scope=col>&lt;int&gt;</th><th scope=col>&lt;dbl&gt;</th></tr>\n",
       "</thead>\n",
       "<tbody>\n",
       "\t<tr><td>buff</td><td>161</td><td>54.02685</td></tr>\n",
       "\t<tr><td>sick</td><td>137</td><td>45.97315</td></tr>\n",
       "</tbody>\n",
       "</table>\n"
      ],
      "text/latex": [
       "A tibble: 2 × 3\n",
       "\\begin{tabular}{lll}\n",
       " num & count & percentage\\\\\n",
       " <fct> & <int> & <dbl>\\\\\n",
       "\\hline\n",
       "\t buff & 161 & 54.02685\\\\\n",
       "\t sick & 137 & 45.97315\\\\\n",
       "\\end{tabular}\n"
      ],
      "text/markdown": [
       "\n",
       "A tibble: 2 × 3\n",
       "\n",
       "| num &lt;fct&gt; | count &lt;int&gt; | percentage &lt;dbl&gt; |\n",
       "|---|---|---|\n",
       "| buff | 161 | 54.02685 |\n",
       "| sick | 137 | 45.97315 |\n",
       "\n"
      ],
      "text/plain": [
       "  num  count percentage\n",
       "1 buff 161   54.02685  \n",
       "2 sick 137   45.97315  "
      ]
     },
     "metadata": {},
     "output_type": "display_data"
    }
   ],
   "source": [
    "# find the number and percentage of differing presence of heart disease observations in our data set\n",
    "# to check for class imbalance\n",
    "\n",
    "num_obs <- nrow(cleveland_tidy)\n",
    "    cleveland_tidy |>\n",
    "    group_by(num) |>\n",
    "    summarize(\n",
    "        count = n(),\n",
    "        percentage = n() / num_obs * 100)"
   ]
  },
  {
   "cell_type": "code",
   "execution_count": 21,
   "id": "877ba0ef-0d78-4679-b206-6936b7e227a4",
   "metadata": {},
   "outputs": [
    {
     "data": {
      "text/html": [
       "<table class=\"dataframe\">\n",
       "<caption>A tibble: 322 × 10</caption>\n",
       "<thead>\n",
       "\t<tr><th scope=col>age</th><th scope=col>cp</th><th scope=col>trestbps</th><th scope=col>chol</th><th scope=col>fbs</th><th scope=col>thalach</th><th scope=col>exang</th><th scope=col>ca</th><th scope=col>thal</th><th scope=col>num</th></tr>\n",
       "\t<tr><th scope=col>&lt;int&gt;</th><th scope=col>&lt;fct&gt;</th><th scope=col>&lt;dbl&gt;</th><th scope=col>&lt;dbl&gt;</th><th scope=col>&lt;fct&gt;</th><th scope=col>&lt;dbl&gt;</th><th scope=col>&lt;fct&gt;</th><th scope=col>&lt;fct&gt;</th><th scope=col>&lt;fct&gt;</th><th scope=col>&lt;fct&gt;</th></tr>\n",
       "</thead>\n",
       "<tbody>\n",
       "\t<tr><td>63</td><td>angina</td><td> 0.75947933</td><td>-0.2679748</td><td>true</td><td>0.02321445</td><td>fal</td><td>0</td><td>fix </td><td>buff</td></tr>\n",
       "\t<tr><td>37</td><td>notang</td><td>-0.08945105</td><td> 0.0596218</td><td>fal </td><td>1.63304188</td><td>fal</td><td>0</td><td>norm</td><td>buff</td></tr>\n",
       "\t<tr><td>41</td><td>abnang</td><td>-0.08945105</td><td>-0.8268160</td><td>fal </td><td>0.98040914</td><td>fal</td><td>0</td><td>norm</td><td>buff</td></tr>\n",
       "\t<tr><td>⋮</td><td>⋮</td><td>⋮</td><td>⋮</td><td>⋮</td><td>⋮</td><td>⋮</td><td>⋮</td><td>⋮</td><td>⋮</td></tr>\n",
       "\t<tr><td>57</td><td>asympt</td><td> 1.891387</td><td> 0.81116685</td><td>true</td><td>-1.1080156</td><td>fal </td><td>3</td><td>rev</td><td>sick</td></tr>\n",
       "\t<tr><td>66</td><td>abnang</td><td> 1.608410</td><td>-0.01745975</td><td>fal </td><td>-1.2820510</td><td>true</td><td>3</td><td>fix</td><td>sick</td></tr>\n",
       "\t<tr><td>41</td><td>asympt</td><td>-1.221358</td><td>-1.44346830</td><td>fal </td><td> 0.3712852</td><td>fal </td><td>0</td><td>rev</td><td>sick</td></tr>\n",
       "</tbody>\n",
       "</table>\n"
      ],
      "text/latex": [
       "A tibble: 322 × 10\n",
       "\\begin{tabular}{llllllllll}\n",
       " age & cp & trestbps & chol & fbs & thalach & exang & ca & thal & num\\\\\n",
       " <int> & <fct> & <dbl> & <dbl> & <fct> & <dbl> & <fct> & <fct> & <fct> & <fct>\\\\\n",
       "\\hline\n",
       "\t 63 & angina &  0.75947933 & -0.2679748 & true & 0.02321445 & fal & 0 & fix  & buff\\\\\n",
       "\t 37 & notang & -0.08945105 &  0.0596218 & fal  & 1.63304188 & fal & 0 & norm & buff\\\\\n",
       "\t 41 & abnang & -0.08945105 & -0.8268160 & fal  & 0.98040914 & fal & 0 & norm & buff\\\\\n",
       "\t ⋮ & ⋮ & ⋮ & ⋮ & ⋮ & ⋮ & ⋮ & ⋮ & ⋮ & ⋮\\\\\n",
       "\t 57 & asympt &  1.891387 &  0.81116685 & true & -1.1080156 & fal  & 3 & rev & sick\\\\\n",
       "\t 66 & abnang &  1.608410 & -0.01745975 & fal  & -1.2820510 & true & 3 & fix & sick\\\\\n",
       "\t 41 & asympt & -1.221358 & -1.44346830 & fal  &  0.3712852 & fal  & 0 & rev & sick\\\\\n",
       "\\end{tabular}\n"
      ],
      "text/markdown": [
       "\n",
       "A tibble: 322 × 10\n",
       "\n",
       "| age &lt;int&gt; | cp &lt;fct&gt; | trestbps &lt;dbl&gt; | chol &lt;dbl&gt; | fbs &lt;fct&gt; | thalach &lt;dbl&gt; | exang &lt;fct&gt; | ca &lt;fct&gt; | thal &lt;fct&gt; | num &lt;fct&gt; |\n",
       "|---|---|---|---|---|---|---|---|---|---|\n",
       "| 63 | angina |  0.75947933 | -0.2679748 | true | 0.02321445 | fal | 0 | fix  | buff |\n",
       "| 37 | notang | -0.08945105 |  0.0596218 | fal  | 1.63304188 | fal | 0 | norm | buff |\n",
       "| 41 | abnang | -0.08945105 | -0.8268160 | fal  | 0.98040914 | fal | 0 | norm | buff |\n",
       "| ⋮ | ⋮ | ⋮ | ⋮ | ⋮ | ⋮ | ⋮ | ⋮ | ⋮ | ⋮ |\n",
       "| 57 | asympt |  1.891387 |  0.81116685 | true | -1.1080156 | fal  | 3 | rev | sick |\n",
       "| 66 | abnang |  1.608410 | -0.01745975 | fal  | -1.2820510 | true | 3 | fix | sick |\n",
       "| 41 | asympt | -1.221358 | -1.44346830 | fal  |  0.3712852 | fal  | 0 | rev | sick |\n",
       "\n"
      ],
      "text/plain": [
       "    age cp     trestbps    chol        fbs  thalach    exang ca thal num \n",
       "1   63  angina  0.75947933 -0.2679748  true 0.02321445 fal   0  fix  buff\n",
       "2   37  notang -0.08945105  0.0596218  fal  1.63304188 fal   0  norm buff\n",
       "3   41  abnang -0.08945105 -0.8268160  fal  0.98040914 fal   0  norm buff\n",
       "⋮   ⋮   ⋮      ⋮           ⋮           ⋮    ⋮          ⋮     ⋮  ⋮    ⋮   \n",
       "320 57  asympt  1.891387    0.81116685 true -1.1080156 fal   3  rev  sick\n",
       "321 66  abnang  1.608410   -0.01745975 fal  -1.2820510 true  3  fix  sick\n",
       "322 41  asympt -1.221358   -1.44346830 fal   0.3712852 fal   0  rev  sick"
      ]
     },
     "metadata": {},
     "output_type": "display_data"
    }
   ],
   "source": [
    "# center, scaling and balancing the heart disease data\n",
    "cleve_recipe <- recipe(num ~ ., data = cleveland_tidy) |>\n",
    "    step_scale(trestbps, chol, thalach) |>\n",
    "    step_center(trestbps, chol, thalach) |>\n",
    "    step_upsample(num, over_ratio = 1, skip = FALSE) |>\n",
    "    prep()\n",
    "\n",
    "preprocessed_cleve <- bake(cleve_recipe, cleveland_tidy)\n",
    "preprocessed_cleve"
   ]
  },
  {
   "cell_type": "code",
   "execution_count": 22,
   "id": "fd853232-b974-4152-8f81-c814f4043838",
   "metadata": {},
   "outputs": [
    {
     "data": {
      "text/html": [
       "<table class=\"dataframe\">\n",
       "<caption>A tibble: 2 × 3</caption>\n",
       "<thead>\n",
       "\t<tr><th scope=col>num</th><th scope=col>count</th><th scope=col>percentage</th></tr>\n",
       "\t<tr><th scope=col>&lt;fct&gt;</th><th scope=col>&lt;int&gt;</th><th scope=col>&lt;dbl&gt;</th></tr>\n",
       "</thead>\n",
       "<tbody>\n",
       "\t<tr><td>buff</td><td>161</td><td>50</td></tr>\n",
       "\t<tr><td>sick</td><td>161</td><td>50</td></tr>\n",
       "</tbody>\n",
       "</table>\n"
      ],
      "text/latex": [
       "A tibble: 2 × 3\n",
       "\\begin{tabular}{lll}\n",
       " num & count & percentage\\\\\n",
       " <fct> & <int> & <dbl>\\\\\n",
       "\\hline\n",
       "\t buff & 161 & 50\\\\\n",
       "\t sick & 161 & 50\\\\\n",
       "\\end{tabular}\n"
      ],
      "text/markdown": [
       "\n",
       "A tibble: 2 × 3\n",
       "\n",
       "| num &lt;fct&gt; | count &lt;int&gt; | percentage &lt;dbl&gt; |\n",
       "|---|---|---|\n",
       "| buff | 161 | 50 |\n",
       "| sick | 161 | 50 |\n",
       "\n"
      ],
      "text/plain": [
       "  num  count percentage\n",
       "1 buff 161   50        \n",
       "2 sick 161   50        "
      ]
     },
     "metadata": {},
     "output_type": "display_data"
    }
   ],
   "source": [
    "# find the number and percentage of differing presence of heart disease observations in our data set\n",
    "# double check class imbalance\n",
    "\n",
    "num_obs <- nrow(preprocessed_cleve)\n",
    "    preprocessed_cleve |>\n",
    "    group_by(num) |>\n",
    "    summarize(\n",
    "        count = n(),\n",
    "        percentage = n() / num_obs * 100)"
   ]
  },
  {
   "cell_type": "code",
   "execution_count": 23,
   "id": "7030ca15-cedf-46d7-ab08-558400c59ba2",
   "metadata": {},
   "outputs": [],
   "source": [
    "# create the TRAIN SET and TEST SET\n",
    "set.seed(2000)\n",
    "\n",
    "cleveland_split <- initial_split(cleveland_tidy, prop = 0.75, strata = num)\n",
    "cleveland_train <- training(cleveland_split) \n",
    "cleveland_test <- testing(cleveland_split)"
   ]
  },
  {
   "cell_type": "markdown",
   "id": "1b916c8c-cb06-4a0c-98be-110cd1bf8f5c",
   "metadata": {},
   "source": [
    "## Preliminary Exploratory Data Analysis"
   ]
  },
  {
   "cell_type": "code",
   "execution_count": 24,
   "id": "6dbe329c-1188-48a8-a941-cb78ef796522",
   "metadata": {},
   "outputs": [
    {
     "data": {
      "text/html": [
       "<table class=\"dataframe\">\n",
       "<caption>A tibble: 2 × 2</caption>\n",
       "<thead>\n",
       "\t<tr><th scope=col>num</th><th scope=col>avg_age</th></tr>\n",
       "\t<tr><th scope=col>&lt;fct&gt;</th><th scope=col>&lt;dbl&gt;</th></tr>\n",
       "</thead>\n",
       "<tbody>\n",
       "\t<tr><td>buff</td><td>52.67500</td></tr>\n",
       "\t<tr><td>sick</td><td>57.23529</td></tr>\n",
       "</tbody>\n",
       "</table>\n"
      ],
      "text/latex": [
       "A tibble: 2 × 2\n",
       "\\begin{tabular}{ll}\n",
       " num & avg\\_age\\\\\n",
       " <fct> & <dbl>\\\\\n",
       "\\hline\n",
       "\t buff & 52.67500\\\\\n",
       "\t sick & 57.23529\\\\\n",
       "\\end{tabular}\n"
      ],
      "text/markdown": [
       "\n",
       "A tibble: 2 × 2\n",
       "\n",
       "| num &lt;fct&gt; | avg_age &lt;dbl&gt; |\n",
       "|---|---|\n",
       "| buff | 52.67500 |\n",
       "| sick | 57.23529 |\n",
       "\n"
      ],
      "text/plain": [
       "  num  avg_age \n",
       "1 buff 52.67500\n",
       "2 sick 57.23529"
      ]
     },
     "metadata": {},
     "output_type": "display_data"
    }
   ],
   "source": [
    "# create tbl to compare the average_age for each stage of heart disease presence and arrange by average_age\n",
    "exploration_tbl1 <- cleveland_train |>\n",
    "    group_by(num) |>\n",
    "    summarize(avg_age = mean(age)) |>\n",
    "    arrange(avg_age)\n",
    "\n",
    "exploration_tbl1"
   ]
  },
  {
   "cell_type": "code",
   "execution_count": 25,
   "id": "7470363a-400a-4c68-b2d7-9040a46f6b8e",
   "metadata": {},
   "outputs": [
    {
     "data": {
      "text/html": [
       "<table class=\"dataframe\">\n",
       "<caption>A tibble: 2 × 2</caption>\n",
       "<thead>\n",
       "\t<tr><th scope=col>num</th><th scope=col>avg_chol</th></tr>\n",
       "\t<tr><th scope=col>&lt;fct&gt;</th><th scope=col>&lt;dbl&gt;</th></tr>\n",
       "</thead>\n",
       "<tbody>\n",
       "\t<tr><td>buff</td><td>247.3500</td></tr>\n",
       "\t<tr><td>sick</td><td>252.2843</td></tr>\n",
       "</tbody>\n",
       "</table>\n"
      ],
      "text/latex": [
       "A tibble: 2 × 2\n",
       "\\begin{tabular}{ll}\n",
       " num & avg\\_chol\\\\\n",
       " <fct> & <dbl>\\\\\n",
       "\\hline\n",
       "\t buff & 247.3500\\\\\n",
       "\t sick & 252.2843\\\\\n",
       "\\end{tabular}\n"
      ],
      "text/markdown": [
       "\n",
       "A tibble: 2 × 2\n",
       "\n",
       "| num &lt;fct&gt; | avg_chol &lt;dbl&gt; |\n",
       "|---|---|\n",
       "| buff | 247.3500 |\n",
       "| sick | 252.2843 |\n",
       "\n"
      ],
      "text/plain": [
       "  num  avg_chol\n",
       "1 buff 247.3500\n",
       "2 sick 252.2843"
      ]
     },
     "metadata": {},
     "output_type": "display_data"
    }
   ],
   "source": [
    "# create tbl to compare average_chol for each stage of heart disease presence and arrange by average_colestoral\n",
    "exploration_tbl2 <- cleveland_train |>\n",
    "    group_by(num) |>\n",
    "    summarize(avg_chol = mean(chol)) |>\n",
    "    arrange(avg_chol)\n",
    "\n",
    "exploration_tbl2"
   ]
  },
  {
   "cell_type": "code",
   "execution_count": 26,
   "id": "fa600589-1acc-4d44-a7da-e9d0de5be6d0",
   "metadata": {},
   "outputs": [
    {
     "data": {
      "text/html": [
       "<table class=\"dataframe\">\n",
       "<caption>A tibble: 2 × 2</caption>\n",
       "<thead>\n",
       "\t<tr><th scope=col>num</th><th scope=col>avg_max_heartrate</th></tr>\n",
       "\t<tr><th scope=col>&lt;fct&gt;</th><th scope=col>&lt;dbl&gt;</th></tr>\n",
       "</thead>\n",
       "<tbody>\n",
       "\t<tr><td>sick</td><td>139.0686</td></tr>\n",
       "\t<tr><td>buff</td><td>159.4500</td></tr>\n",
       "</tbody>\n",
       "</table>\n"
      ],
      "text/latex": [
       "A tibble: 2 × 2\n",
       "\\begin{tabular}{ll}\n",
       " num & avg\\_max\\_heartrate\\\\\n",
       " <fct> & <dbl>\\\\\n",
       "\\hline\n",
       "\t sick & 139.0686\\\\\n",
       "\t buff & 159.4500\\\\\n",
       "\\end{tabular}\n"
      ],
      "text/markdown": [
       "\n",
       "A tibble: 2 × 2\n",
       "\n",
       "| num &lt;fct&gt; | avg_max_heartrate &lt;dbl&gt; |\n",
       "|---|---|\n",
       "| sick | 139.0686 |\n",
       "| buff | 159.4500 |\n",
       "\n"
      ],
      "text/plain": [
       "  num  avg_max_heartrate\n",
       "1 sick 139.0686         \n",
       "2 buff 159.4500         "
      ]
     },
     "metadata": {},
     "output_type": "display_data"
    }
   ],
   "source": [
    "# create tbl to compare average_max_heartrate for each stage of heart disease presence and arrange by average_max_heartrate\n",
    "exploration_tbl3 <- cleveland_train |>\n",
    "    group_by(num) |>\n",
    "    summarize(avg_max_heartrate = mean(thalach)) |>\n",
    "    arrange(avg_max_heartrate)\n",
    "\n",
    "exploration_tbl3"
   ]
  },
  {
   "cell_type": "code",
   "execution_count": null,
   "id": "c6054ed7-b938-4f97-8519-5807e6a57055",
   "metadata": {},
   "outputs": [],
   "source": [
    "# draw a scatter plot to visualize the relationship between the age and chol (serum cholestoral in mg/d) predictors/variables\n",
    "\n",
    "options(repr.plot.height = 6, repr.plot.width = 8)\n",
    "exploration_plot1 <- cleveland_train |>\n",
    "  ggplot(aes(x = age, y = chol, color = num)) +\n",
    "  geom_point(alpha = 0.6) +\n",
    "  labs(x = \"Age (years)\",\n",
    "       y = \"Serum Cholesterol (standardized)\",\n",
    "       color = \"Presence of Heart Disease\", \n",
    "       title = \"Visualization of Serum Cholesterol vs Age\") + \n",
    "  theme(text = element_text(size = 16))\n",
    "\n",
    "exploration_plot1"
   ]
  },
  {
   "cell_type": "code",
   "execution_count": null,
   "id": "a760bc6e-1681-4b05-82d5-c9cbf7722190",
   "metadata": {},
   "outputs": [],
   "source": [
    "# draw a scatter plot to visualize the relationship between the age and thalach (maximum heart rate achieved) predictors/variables\n",
    "\n",
    "options(repr.plot.height = 6, repr.plot.width = 8)\n",
    "exploration_plot2 <- cleveland_train |>\n",
    "  ggplot(aes(x = age, y = thalach, color = num)) +\n",
    "  geom_point(alpha = 0.6) +\n",
    "  labs(x = \"Age (years)\",\n",
    "       y = \"Maximum Heart Rate Achieved (standardized)\",\n",
    "       color = \"Presence of Heart Disease\", \n",
    "       title = \"Visualization of Maximum Heart Rate Achieved vs Age\") + \n",
    "  theme(text = element_text(size = 16))\n",
    "\n",
    "exploration_plot2"
   ]
  },
  {
   "cell_type": "code",
   "execution_count": null,
   "id": "bca10b96-b5e0-47c9-8eb0-93e1214f96f3",
   "metadata": {},
   "outputs": [],
   "source": [
    "# draw a scatter plot to visualize the relationship between chol (serum cholestoral in mg/d) and thalach (maximum heart rate achieved) predictors/variables\n",
    "\n",
    "options(repr.plot.height = 6, repr.plot.width = 8)\n",
    "exploration_plot3 <- cleveland_train |>\n",
    "  ggplot(aes(x = chol, y = thalach, color = num)) +\n",
    "  geom_point(alpha = 0.6) +\n",
    "  labs(x = \"Serum Cholesterol (standardized)\",\n",
    "       y = \"Maximum Heart Rate Achieved (standardized)\",\n",
    "       color = \"Presence of Heart Disease\", \n",
    "       title = \"Visualization of Maximum Heart Rate Achieved vs Serum Cholesterol\") + \n",
    "  theme(text = element_text(size = 16))\n",
    "\n",
    "exploration_plot3"
   ]
  },
  {
   "cell_type": "markdown",
   "id": "4cf5102f-7646-44dc-862c-e68b82031a2b",
   "metadata": {},
   "source": [
    "## Exploration Graph Analysis\n",
    "Our tables are relevant in assisting our analysis towards answering our question, as it demonstrates the possible relationship between each predictor and our class. Where within all the tables one in particular clearly demonstrates that there are some positive relationship between the predictor age and num, the presence of heart disease.\n",
    "\n",
    "Our plots help visually protray further relationship between more variables, whereas there is no clear relationship observed.\n",
    "\n",
    "To conclude, within the previous tables and plots there does not seem to be any obvious relationship other than the positive relationship between age and the presence of heart disease. It is oberved that between age and the presence of heart disease, num, there is a moderately positive linear relationship where the increase of age has a correlationing increase in the presence of heart disease."
   ]
  },
  {
   "cell_type": "markdown",
   "id": "77228a0d-b39b-40e0-ae46-d1a74658db0d",
   "metadata": {},
   "source": [
    "# Data Analysis"
   ]
  },
  {
   "cell_type": "code",
   "execution_count": null,
   "id": "4a086efe-9bd7-4bb1-876f-81d69bcdf4c1",
   "metadata": {},
   "outputs": [],
   "source": [
    "# find the best k neighbour value to use with V-fold cross validation\n",
    "cleveland_vfold <- vfold_cv(cleveland_train, v = 5, strata = num)\n",
    "\n",
    "cleveland_recipe <- recipe(num ~ ., data = cleveland_train) |>\n",
    "                    step_scale(all_predictors()) |>\n",
    "                    step_center(all_predictors())\n",
    "\n",
    "cleveland_spec <- nearest_neighbor(weight_func = \"rectangular\", neighbors = tune()) |>\n",
    "            set_engine(\"kknn\") |>\n",
    "            set_mode(\"classification\")\n",
    "\n",
    "gridvals = tibble(neighbors = seq(from = 1, to = 80, by = 5))\n",
    "\n",
    "set.seed(2000)\n",
    "\n",
    "cleveland_results <- workflow() |>\n",
    "            add_recipe(cleveland_recipe) |>\n",
    "            add_model(cleveland_spec) |>\n",
    "            tune_grid(resamples = cleveland_vfold, grid = gridvals) |>\n",
    "            collect_metrics() |>\n",
    "            filter(.metric == \"accuracy\")\n",
    "cleveland_results\n",
    "\n",
    "# plot k values against their respective accuracies and choose optimal k value\n",
    "cross_val_plot <- cleveland_results |> \n",
    "    ggplot(aes(x = neighbors, y = mean)) +\n",
    "    geom_point() +\n",
    "    geom_line() +\n",
    "    labs(x = \"Neighbors\", y = \"Accuracy Estimate\") +\n",
    "    theme(text = element_text(size = 20))\n",
    "cross_val_plot"
   ]
  },
  {
   "cell_type": "code",
   "execution_count": null,
   "id": "cefbe077-7b9f-46d7-ae79-fa59229bf758",
   "metadata": {},
   "outputs": [],
   "source": [
    "# compare the accuracy of predictions to the true values in the test set\n",
    "cleveland_best_spec <- nearest_neighbor(weight_func = \"rectangular\", neighbors = 1) |>\n",
    "  set_engine(\"kknn\") |>\n",
    "  set_mode(\"classification\")\n",
    "\n",
    "cleveland_fit <- workflow() |>\n",
    "  add_recipe(cleveland_recipe) |>\n",
    "  add_model(cleveland_best_spec) |>\n",
    "  fit(data = cleveland_train)\n",
    "\n",
    "cleveland_predictions <- predict(cleveland_fit, cleveland_test) |> \n",
    "    bind_cols(cleveland_test)\n",
    "\n",
    "cleveland_acc <- cleveland_predictions |> \n",
    "    metrics(truth = num, estimate = .pred_class) |> \n",
    "    select(.metric, .estimate) |> \n",
    "    head(1)\n",
    "\n",
    "cleveland_acc\n",
    "cleveland_cm <- cleveland_predictions |> \n",
    "    conf_mat(truth = num, estimate = .pred_class)\n",
    "cleveland_cm"
   ]
  },
  {
   "cell_type": "markdown",
   "id": "462f3bc2-a264-45f1-a71a-37619ac4c8c6",
   "metadata": {},
   "source": [
    "### Work Cited\n",
    "Marateb HR, Goudarzi S. A noninvasive method for coronary artery diseases diagnosis using a clinically-interpretable fuzzy rule-based system. J Res Med Sci. 2015 Mar;20(3):214-23. PMID: 26109965; PMCID: PMC4468223."
   ]
  },
  {
   "cell_type": "code",
   "execution_count": null,
   "id": "8dd914f4-6feb-49d9-ae21-a424076a244d",
   "metadata": {},
   "outputs": [],
   "source": []
  }
 ],
 "metadata": {
  "kernelspec": {
   "display_name": "R",
   "language": "R",
   "name": "ir"
  },
  "language_info": {
   "codemirror_mode": "r",
   "file_extension": ".r",
   "mimetype": "text/x-r-source",
   "name": "R",
   "pygments_lexer": "r",
   "version": "4.3.1"
  }
 },
 "nbformat": 4,
 "nbformat_minor": 5
}
