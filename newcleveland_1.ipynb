{
 "cells": [
  {
   "cell_type": "code",
   "execution_count": 1,
   "id": "60f6933d-9857-4cff-b7b2-3c821a5c8aee",
   "metadata": {},
   "outputs": [
    {
     "name": "stderr",
     "output_type": "stream",
     "text": [
      "Warning message:\n",
      "“package ‘ggplot2’ was built under R version 4.3.2”\n",
      "── \u001b[1mAttaching core tidyverse packages\u001b[22m ──────────────────────── tidyverse 2.0.0 ──\n",
      "\u001b[32m✔\u001b[39m \u001b[34mdplyr    \u001b[39m 1.1.3     \u001b[32m✔\u001b[39m \u001b[34mreadr    \u001b[39m 2.1.4\n",
      "\u001b[32m✔\u001b[39m \u001b[34mforcats  \u001b[39m 1.0.0     \u001b[32m✔\u001b[39m \u001b[34mstringr  \u001b[39m 1.5.0\n",
      "\u001b[32m✔\u001b[39m \u001b[34mggplot2  \u001b[39m 3.5.0     \u001b[32m✔\u001b[39m \u001b[34mtibble   \u001b[39m 3.2.1\n",
      "\u001b[32m✔\u001b[39m \u001b[34mlubridate\u001b[39m 1.9.2     \u001b[32m✔\u001b[39m \u001b[34mtidyr    \u001b[39m 1.3.0\n",
      "\u001b[32m✔\u001b[39m \u001b[34mpurrr    \u001b[39m 1.0.2     \n",
      "── \u001b[1mConflicts\u001b[22m ────────────────────────────────────────── tidyverse_conflicts() ──\n",
      "\u001b[31m✖\u001b[39m \u001b[34mdplyr\u001b[39m::\u001b[32mfilter()\u001b[39m masks \u001b[34mstats\u001b[39m::filter()\n",
      "\u001b[31m✖\u001b[39m \u001b[34mdplyr\u001b[39m::\u001b[32mlag()\u001b[39m    masks \u001b[34mstats\u001b[39m::lag()\n",
      "\u001b[36mℹ\u001b[39m Use the conflicted package (\u001b[3m\u001b[34m<http://conflicted.r-lib.org/>\u001b[39m\u001b[23m) to force all conflicts to become errors\n",
      "Updating HTML index of packages in '.Library'\n",
      "\n",
      "Making 'packages.html' ...\n",
      " done\n",
      "\n",
      "── \u001b[1mAttaching packages\u001b[22m ────────────────────────────────────── tidymodels 1.1.1 ──\n",
      "\n",
      "\u001b[32m✔\u001b[39m \u001b[34mbroom       \u001b[39m 1.0.5     \u001b[32m✔\u001b[39m \u001b[34mrsample     \u001b[39m 1.2.0\n",
      "\u001b[32m✔\u001b[39m \u001b[34mdials       \u001b[39m 1.2.0     \u001b[32m✔\u001b[39m \u001b[34mtune        \u001b[39m 1.1.2\n",
      "\u001b[32m✔\u001b[39m \u001b[34minfer       \u001b[39m 1.0.5     \u001b[32m✔\u001b[39m \u001b[34mworkflows   \u001b[39m 1.1.3\n",
      "\u001b[32m✔\u001b[39m \u001b[34mmodeldata   \u001b[39m 1.2.0     \u001b[32m✔\u001b[39m \u001b[34mworkflowsets\u001b[39m 1.0.1\n",
      "\u001b[32m✔\u001b[39m \u001b[34mparsnip     \u001b[39m 1.1.1     \u001b[32m✔\u001b[39m \u001b[34myardstick   \u001b[39m 1.2.0\n",
      "\u001b[32m✔\u001b[39m \u001b[34mrecipes     \u001b[39m 1.0.8     \n",
      "\n",
      "── \u001b[1mConflicts\u001b[22m ───────────────────────────────────────── tidymodels_conflicts() ──\n",
      "\u001b[31m✖\u001b[39m \u001b[34mscales\u001b[39m::\u001b[32mdiscard()\u001b[39m masks \u001b[34mpurrr\u001b[39m::discard()\n",
      "\u001b[31m✖\u001b[39m \u001b[34mdplyr\u001b[39m::\u001b[32mfilter()\u001b[39m   masks \u001b[34mstats\u001b[39m::filter()\n",
      "\u001b[31m✖\u001b[39m \u001b[34mrecipes\u001b[39m::\u001b[32mfixed()\u001b[39m  masks \u001b[34mstringr\u001b[39m::fixed()\n",
      "\u001b[31m✖\u001b[39m \u001b[34mdplyr\u001b[39m::\u001b[32mlag()\u001b[39m      masks \u001b[34mstats\u001b[39m::lag()\n",
      "\u001b[31m✖\u001b[39m \u001b[34myardstick\u001b[39m::\u001b[32mspec()\u001b[39m masks \u001b[34mreadr\u001b[39m::spec()\n",
      "\u001b[31m✖\u001b[39m \u001b[34mrecipes\u001b[39m::\u001b[32mstep()\u001b[39m   masks \u001b[34mstats\u001b[39m::step()\n",
      "\u001b[34m•\u001b[39m Use suppressPackageStartupMessages() to eliminate package startup messages\n",
      "\n",
      "Warning message in install.packages(\"themis\"):\n",
      "“installation of package ‘themis’ had non-zero exit status”\n",
      "Updating HTML index of packages in '.Library'\n",
      "\n",
      "Making 'packages.html' ...\n",
      " done\n",
      "\n"
     ]
    },
    {
     "ename": "ERROR",
     "evalue": "Error in library(themis): there is no package called ‘themis’\n",
     "output_type": "error",
     "traceback": [
      "Error in library(themis): there is no package called ‘themis’\nTraceback:\n",
      "1. library(themis)"
     ]
    }
   ],
   "source": [
    "#loading in the library necessary\n",
    "library(tidyverse)\n",
    "install.packages(\"tidyverse\")\n",
    "library(repr)\n",
    "library(tidymodels)\n",
    "install.packages(\"themis\")\n",
    "library(themis)\n",
    "options(repr.matrix.max.rows = 6)"
   ]
  },
  {
   "cell_type": "code",
   "execution_count": 103,
   "id": "ef5e51ec-2f77-454a-b54e-c5efb17df976",
   "metadata": {},
   "outputs": [
    {
     "name": "stderr",
     "output_type": "stream",
     "text": [
      "\u001b[1mRows: \u001b[22m\u001b[34m303\u001b[39m \u001b[1mColumns: \u001b[22m\u001b[34m15\u001b[39m\n",
      "\u001b[36m──\u001b[39m \u001b[1mColumn specification\u001b[22m \u001b[36m────────────────────────────────────────────────────────\u001b[39m\n",
      "\u001b[1mDelimiter:\u001b[22m \",\"\n",
      "\u001b[31mchr\u001b[39m (10): X2, X3, X6, X7, X9, X11, X12, X13, X14, X15\n",
      "\u001b[32mdbl\u001b[39m  (5): X1, X4, X5, X8, X10\n",
      "\n",
      "\u001b[36mℹ\u001b[39m Use `spec()` to retrieve the full column specification for this data.\n",
      "\u001b[36mℹ\u001b[39m Specify the column types or set `show_col_types = FALSE` to quiet this message.\n"
     ]
    },
    {
     "data": {
      "text/html": [
       "<table class=\"dataframe\">\n",
       "<caption>A spec_tbl_df: 303 × 15</caption>\n",
       "<thead>\n",
       "\t<tr><th scope=col>age</th><th scope=col>sex</th><th scope=col>cp</th><th scope=col>trestbps</th><th scope=col>chol</th><th scope=col>fbs</th><th scope=col>restecg</th><th scope=col>thalach</th><th scope=col>exang</th><th scope=col>oldpeak</th><th scope=col>slope</th><th scope=col>ca</th><th scope=col>thal</th><th scope=col>num</th><th scope=col>NA</th></tr>\n",
       "\t<tr><th scope=col>&lt;dbl&gt;</th><th scope=col>&lt;chr&gt;</th><th scope=col>&lt;chr&gt;</th><th scope=col>&lt;dbl&gt;</th><th scope=col>&lt;dbl&gt;</th><th scope=col>&lt;chr&gt;</th><th scope=col>&lt;chr&gt;</th><th scope=col>&lt;dbl&gt;</th><th scope=col>&lt;chr&gt;</th><th scope=col>&lt;dbl&gt;</th><th scope=col>&lt;chr&gt;</th><th scope=col>&lt;chr&gt;</th><th scope=col>&lt;chr&gt;</th><th scope=col>&lt;chr&gt;</th><th scope=col>&lt;chr&gt;</th></tr>\n",
       "</thead>\n",
       "<tbody>\n",
       "\t<tr><td>63</td><td>male</td><td>angina</td><td>145</td><td>233</td><td>true</td><td>hyp</td><td>150</td><td>fal </td><td>2.3</td><td>down</td><td>0.0</td><td>fix </td><td>buff</td><td>H </td></tr>\n",
       "\t<tr><td>67</td><td>male</td><td>asympt</td><td>160</td><td>286</td><td>fal </td><td>hyp</td><td>108</td><td>true</td><td>1.5</td><td>flat</td><td>3.0</td><td>norm</td><td>sick</td><td>S2</td></tr>\n",
       "\t<tr><td>67</td><td>male</td><td>asympt</td><td>120</td><td>229</td><td>fal </td><td>hyp</td><td>129</td><td>true</td><td>2.6</td><td>flat</td><td>2.0</td><td>rev </td><td>sick</td><td>S1</td></tr>\n",
       "\t<tr><td>⋮</td><td>⋮</td><td>⋮</td><td>⋮</td><td>⋮</td><td>⋮</td><td>⋮</td><td>⋮</td><td>⋮</td><td>⋮</td><td>⋮</td><td>⋮</td><td>⋮</td><td>⋮</td><td>⋮</td></tr>\n",
       "\t<tr><td>49</td><td>male</td><td>notang</td><td>118</td><td>149</td><td>fal</td><td>hyp </td><td>126</td><td>fal </td><td>0.8</td><td>up</td><td>3.0</td><td>norm</td><td>sick</td><td>S1</td></tr>\n",
       "\t<tr><td>74</td><td>fem </td><td>abnang</td><td>120</td><td>269</td><td>fal</td><td>hyp </td><td>121</td><td>true</td><td>0.2</td><td>up</td><td>1.0</td><td>norm</td><td>buff</td><td>H </td></tr>\n",
       "\t<tr><td>54</td><td>fem </td><td>notang</td><td>160</td><td>201</td><td>fal</td><td>norm</td><td>163</td><td>fal </td><td>0.0</td><td>up</td><td>1.0</td><td>norm</td><td>buff</td><td>H </td></tr>\n",
       "</tbody>\n",
       "</table>\n"
      ],
      "text/latex": [
       "A spec\\_tbl\\_df: 303 × 15\n",
       "\\begin{tabular}{lllllllllllllll}\n",
       " age & sex & cp & trestbps & chol & fbs & restecg & thalach & exang & oldpeak & slope & ca & thal & num & NA\\\\\n",
       " <dbl> & <chr> & <chr> & <dbl> & <dbl> & <chr> & <chr> & <dbl> & <chr> & <dbl> & <chr> & <chr> & <chr> & <chr> & <chr>\\\\\n",
       "\\hline\n",
       "\t 63 & male & angina & 145 & 233 & true & hyp & 150 & fal  & 2.3 & down & 0.0 & fix  & buff & H \\\\\n",
       "\t 67 & male & asympt & 160 & 286 & fal  & hyp & 108 & true & 1.5 & flat & 3.0 & norm & sick & S2\\\\\n",
       "\t 67 & male & asympt & 120 & 229 & fal  & hyp & 129 & true & 2.6 & flat & 2.0 & rev  & sick & S1\\\\\n",
       "\t ⋮ & ⋮ & ⋮ & ⋮ & ⋮ & ⋮ & ⋮ & ⋮ & ⋮ & ⋮ & ⋮ & ⋮ & ⋮ & ⋮ & ⋮\\\\\n",
       "\t 49 & male & notang & 118 & 149 & fal & hyp  & 126 & fal  & 0.8 & up & 3.0 & norm & sick & S1\\\\\n",
       "\t 74 & fem  & abnang & 120 & 269 & fal & hyp  & 121 & true & 0.2 & up & 1.0 & norm & buff & H \\\\\n",
       "\t 54 & fem  & notang & 160 & 201 & fal & norm & 163 & fal  & 0.0 & up & 1.0 & norm & buff & H \\\\\n",
       "\\end{tabular}\n"
      ],
      "text/markdown": [
       "\n",
       "A spec_tbl_df: 303 × 15\n",
       "\n",
       "| age &lt;dbl&gt; | sex &lt;chr&gt; | cp &lt;chr&gt; | trestbps &lt;dbl&gt; | chol &lt;dbl&gt; | fbs &lt;chr&gt; | restecg &lt;chr&gt; | thalach &lt;dbl&gt; | exang &lt;chr&gt; | oldpeak &lt;dbl&gt; | slope &lt;chr&gt; | ca &lt;chr&gt; | thal &lt;chr&gt; | num &lt;chr&gt; | NA &lt;chr&gt; |\n",
       "|---|---|---|---|---|---|---|---|---|---|---|---|---|---|---|\n",
       "| 63 | male | angina | 145 | 233 | true | hyp | 150 | fal  | 2.3 | down | 0.0 | fix  | buff | H  |\n",
       "| 67 | male | asympt | 160 | 286 | fal  | hyp | 108 | true | 1.5 | flat | 3.0 | norm | sick | S2 |\n",
       "| 67 | male | asympt | 120 | 229 | fal  | hyp | 129 | true | 2.6 | flat | 2.0 | rev  | sick | S1 |\n",
       "| ⋮ | ⋮ | ⋮ | ⋮ | ⋮ | ⋮ | ⋮ | ⋮ | ⋮ | ⋮ | ⋮ | ⋮ | ⋮ | ⋮ | ⋮ |\n",
       "| 49 | male | notang | 118 | 149 | fal | hyp  | 126 | fal  | 0.8 | up | 3.0 | norm | sick | S1 |\n",
       "| 74 | fem  | abnang | 120 | 269 | fal | hyp  | 121 | true | 0.2 | up | 1.0 | norm | buff | H  |\n",
       "| 54 | fem  | notang | 160 | 201 | fal | norm | 163 | fal  | 0.0 | up | 1.0 | norm | buff | H  |\n",
       "\n"
      ],
      "text/plain": [
       "    age sex  cp     trestbps chol fbs  restecg thalach exang oldpeak slope ca \n",
       "1   63  male angina 145      233  true hyp     150     fal   2.3     down  0.0\n",
       "2   67  male asympt 160      286  fal  hyp     108     true  1.5     flat  3.0\n",
       "3   67  male asympt 120      229  fal  hyp     129     true  2.6     flat  2.0\n",
       "⋮   ⋮   ⋮    ⋮      ⋮        ⋮    ⋮    ⋮       ⋮       ⋮     ⋮       ⋮     ⋮  \n",
       "301 49  male notang 118      149  fal  hyp     126     fal   0.8     up    3.0\n",
       "302 74  fem  abnang 120      269  fal  hyp     121     true  0.2     up    1.0\n",
       "303 54  fem  notang 160      201  fal  norm    163     fal   0.0     up    1.0\n",
       "    thal num  <NA>\n",
       "1   fix  buff H   \n",
       "2   norm sick S2  \n",
       "3   rev  sick S1  \n",
       "⋮   ⋮    ⋮    ⋮   \n",
       "301 norm sick S1  \n",
       "302 norm buff H   \n",
       "303 norm buff H   "
      ]
     },
     "metadata": {},
     "output_type": "display_data"
    },
    {
     "name": "stderr",
     "output_type": "stream",
     "text": [
      "Warning message:\n",
      "“\u001b[1m\u001b[22mThere was 1 warning in `mutate()`.\n",
      "\u001b[1m\u001b[22m\u001b[36mℹ\u001b[39m In argument: `ca = as.integer(ca)`.\n",
      "Caused by warning:\n",
      "\u001b[33m!\u001b[39m NAs introduced by coercion”\n"
     ]
    },
    {
     "data": {
      "text/html": [
       "<table class=\"dataframe\">\n",
       "<caption>A tibble: 298 × 10</caption>\n",
       "<thead>\n",
       "\t<tr><th scope=col>age</th><th scope=col>cp</th><th scope=col>trestbps</th><th scope=col>chol</th><th scope=col>fbs</th><th scope=col>thalach</th><th scope=col>exang</th><th scope=col>ca</th><th scope=col>thal</th><th scope=col>num</th></tr>\n",
       "\t<tr><th scope=col>&lt;int&gt;</th><th scope=col>&lt;fct&gt;</th><th scope=col>&lt;int&gt;</th><th scope=col>&lt;int&gt;</th><th scope=col>&lt;fct&gt;</th><th scope=col>&lt;int&gt;</th><th scope=col>&lt;fct&gt;</th><th scope=col>&lt;fct&gt;</th><th scope=col>&lt;fct&gt;</th><th scope=col>&lt;fct&gt;</th></tr>\n",
       "</thead>\n",
       "<tbody>\n",
       "\t<tr><td>63</td><td>angina</td><td>145</td><td>233</td><td>true</td><td>150</td><td>fal </td><td>0</td><td>fix </td><td>buff</td></tr>\n",
       "\t<tr><td>67</td><td>asympt</td><td>160</td><td>286</td><td>fal </td><td>108</td><td>true</td><td>3</td><td>norm</td><td>sick</td></tr>\n",
       "\t<tr><td>67</td><td>asympt</td><td>120</td><td>229</td><td>fal </td><td>129</td><td>true</td><td>2</td><td>rev </td><td>sick</td></tr>\n",
       "\t<tr><td>⋮</td><td>⋮</td><td>⋮</td><td>⋮</td><td>⋮</td><td>⋮</td><td>⋮</td><td>⋮</td><td>⋮</td><td>⋮</td></tr>\n",
       "\t<tr><td>49</td><td>notang</td><td>118</td><td>149</td><td>fal</td><td>126</td><td>fal </td><td>3</td><td>norm</td><td>sick</td></tr>\n",
       "\t<tr><td>74</td><td>abnang</td><td>120</td><td>269</td><td>fal</td><td>121</td><td>true</td><td>1</td><td>norm</td><td>buff</td></tr>\n",
       "\t<tr><td>54</td><td>notang</td><td>160</td><td>201</td><td>fal</td><td>163</td><td>fal </td><td>1</td><td>norm</td><td>buff</td></tr>\n",
       "</tbody>\n",
       "</table>\n"
      ],
      "text/latex": [
       "A tibble: 298 × 10\n",
       "\\begin{tabular}{llllllllll}\n",
       " age & cp & trestbps & chol & fbs & thalach & exang & ca & thal & num\\\\\n",
       " <int> & <fct> & <int> & <int> & <fct> & <int> & <fct> & <fct> & <fct> & <fct>\\\\\n",
       "\\hline\n",
       "\t 63 & angina & 145 & 233 & true & 150 & fal  & 0 & fix  & buff\\\\\n",
       "\t 67 & asympt & 160 & 286 & fal  & 108 & true & 3 & norm & sick\\\\\n",
       "\t 67 & asympt & 120 & 229 & fal  & 129 & true & 2 & rev  & sick\\\\\n",
       "\t ⋮ & ⋮ & ⋮ & ⋮ & ⋮ & ⋮ & ⋮ & ⋮ & ⋮ & ⋮\\\\\n",
       "\t 49 & notang & 118 & 149 & fal & 126 & fal  & 3 & norm & sick\\\\\n",
       "\t 74 & abnang & 120 & 269 & fal & 121 & true & 1 & norm & buff\\\\\n",
       "\t 54 & notang & 160 & 201 & fal & 163 & fal  & 1 & norm & buff\\\\\n",
       "\\end{tabular}\n"
      ],
      "text/markdown": [
       "\n",
       "A tibble: 298 × 10\n",
       "\n",
       "| age &lt;int&gt; | cp &lt;fct&gt; | trestbps &lt;int&gt; | chol &lt;int&gt; | fbs &lt;fct&gt; | thalach &lt;int&gt; | exang &lt;fct&gt; | ca &lt;fct&gt; | thal &lt;fct&gt; | num &lt;fct&gt; |\n",
       "|---|---|---|---|---|---|---|---|---|---|\n",
       "| 63 | angina | 145 | 233 | true | 150 | fal  | 0 | fix  | buff |\n",
       "| 67 | asympt | 160 | 286 | fal  | 108 | true | 3 | norm | sick |\n",
       "| 67 | asympt | 120 | 229 | fal  | 129 | true | 2 | rev  | sick |\n",
       "| ⋮ | ⋮ | ⋮ | ⋮ | ⋮ | ⋮ | ⋮ | ⋮ | ⋮ | ⋮ |\n",
       "| 49 | notang | 118 | 149 | fal | 126 | fal  | 3 | norm | sick |\n",
       "| 74 | abnang | 120 | 269 | fal | 121 | true | 1 | norm | buff |\n",
       "| 54 | notang | 160 | 201 | fal | 163 | fal  | 1 | norm | buff |\n",
       "\n"
      ],
      "text/plain": [
       "    age cp     trestbps chol fbs  thalach exang ca thal num \n",
       "1   63  angina 145      233  true 150     fal   0  fix  buff\n",
       "2   67  asympt 160      286  fal  108     true  3  norm sick\n",
       "3   67  asympt 120      229  fal  129     true  2  rev  sick\n",
       "⋮   ⋮   ⋮      ⋮        ⋮    ⋮    ⋮       ⋮     ⋮  ⋮    ⋮   \n",
       "296 49  notang 118      149  fal  126     fal   3  norm sick\n",
       "297 74  abnang 120      269  fal  121     true  1  norm buff\n",
       "298 54  notang 160      201  fal  163     fal   1  norm buff"
      ]
     },
     "metadata": {},
     "output_type": "display_data"
    }
   ],
   "source": [
    "cleveland <- read_csv(\"https://raw.githubusercontent.com/JennWan/Group_Project/main/heart%20disease%20data/original%20data/cleve-Copy1.mod.csv\", col_names = F)\n",
    "colnames(cleveland) <- c(\"age\", \"sex\", \"cp\", \"trestbps\", \"chol\", \"fbs\", \"restecg\", \n",
    "                         \"thalach\", \"exang\", \"oldpeak\", \"slope\", \"ca\", \"thal\", \"num\")\n",
    "cleveland\n",
    "cleveland_tidy <- cleveland |>\n",
    "                select(age, cp, trestbps, chol, fbs, thalach, exang, ca, thal, num) |>\n",
    "                mutate(age = as.integer(age), \n",
    "                       trestbps = as.integer(trestbps), \n",
    "                       chol = as.integer(chol), \n",
    "                       thalach = as.integer(thalach), \n",
    "                       cp = as_factor(cp), \n",
    "                       fbs = as_factor(fbs), \n",
    "                       exang = as_factor(exang), \n",
    "                       ca = as.integer(ca), \n",
    "                       thal = as_factor(thal), \n",
    "                       num = as_factor(num))\n",
    "cleveland_tidy <- cleveland_tidy |>\n",
    "                mutate(ca = as_factor(ca)) |>\n",
    "                filter(!is.na(ca), !is.na(thal))\n",
    "cleveland_tidy \n"
   ]
  },
  {
   "cell_type": "code",
   "execution_count": null,
   "id": "a1bef86f-7042-4819-ac65-d503d6ea096c",
   "metadata": {},
   "outputs": [],
   "source": []
  }
 ],
 "metadata": {
  "kernelspec": {
   "display_name": "R",
   "language": "R",
   "name": "ir"
  },
  "language_info": {
   "codemirror_mode": "r",
   "file_extension": ".r",
   "mimetype": "text/x-r-source",
   "name": "R",
   "pygments_lexer": "r",
   "version": "4.3.1"
  }
 },
 "nbformat": 4,
 "nbformat_minor": 5
}
